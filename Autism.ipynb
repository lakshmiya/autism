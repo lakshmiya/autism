{
  "nbformat": 4,
  "nbformat_minor": 0,
  "metadata": {
    "colab": {
      "name": "Autism.ipynb",
      "provenance": [],
      "collapsed_sections": []
    },
    "kernelspec": {
      "display_name": "Python 3",
      "name": "python3"
    },
    "language_info": {
      "name": "python"
    }
  },
  "cells": [
    {
      "cell_type": "code",
      "metadata": {
        "id": "L-lmLY0hf_mc"
      },
      "source": [
        "import pandas as pd\n",
        "import numpy as np\n",
        "import matplotlib.pyplot as plt\n",
        "import seaborn as sns\n",
        "%matplotlib inline\n",
        "import warnings\n",
        "warnings.simplefilter(action = 'ignore', category= FutureWarning)"
      ],
      "execution_count": 1,
      "outputs": []
    },
    {
      "cell_type": "code",
      "metadata": {
        "id": "NlxLQlTygLhR"
      },
      "source": [
        "#Load the dataset\n",
        "autism_df=pd.read_csv('/content/dataset (1).csv')"
      ],
      "execution_count": 2,
      "outputs": []
    },
    {
      "cell_type": "code",
      "metadata": {
        "colab": {
          "base_uri": "https://localhost:8080/",
          "height": 320
        },
        "id": "iPWT1tiCgXHl",
        "outputId": "9f705189-1224-4625-bb89-18794667716c"
      },
      "source": [
        "autism_df.describe()"
      ],
      "execution_count": 3,
      "outputs": [
        {
          "output_type": "execute_result",
          "data": {
            "text/html": [
              "<div>\n",
              "<style scoped>\n",
              "    .dataframe tbody tr th:only-of-type {\n",
              "        vertical-align: middle;\n",
              "    }\n",
              "\n",
              "    .dataframe tbody tr th {\n",
              "        vertical-align: top;\n",
              "    }\n",
              "\n",
              "    .dataframe thead th {\n",
              "        text-align: right;\n",
              "    }\n",
              "</style>\n",
              "<table border=\"1\" class=\"dataframe\">\n",
              "  <thead>\n",
              "    <tr style=\"text-align: right;\">\n",
              "      <th></th>\n",
              "      <th>A1_Score</th>\n",
              "      <th>A2_Score</th>\n",
              "      <th>A3_Score</th>\n",
              "      <th>A4_Score</th>\n",
              "      <th>A5_Score</th>\n",
              "      <th>A6_Score</th>\n",
              "      <th>A7_Score</th>\n",
              "      <th>A8_Score</th>\n",
              "      <th>A9_Score</th>\n",
              "      <th>A10_Score</th>\n",
              "      <th>result</th>\n",
              "    </tr>\n",
              "  </thead>\n",
              "  <tbody>\n",
              "    <tr>\n",
              "      <th>count</th>\n",
              "      <td>704.000000</td>\n",
              "      <td>704.000000</td>\n",
              "      <td>704.000000</td>\n",
              "      <td>704.000000</td>\n",
              "      <td>704.000000</td>\n",
              "      <td>704.000000</td>\n",
              "      <td>704.000000</td>\n",
              "      <td>704.000000</td>\n",
              "      <td>704.000000</td>\n",
              "      <td>704.000000</td>\n",
              "      <td>704.000000</td>\n",
              "    </tr>\n",
              "    <tr>\n",
              "      <th>mean</th>\n",
              "      <td>0.721591</td>\n",
              "      <td>0.453125</td>\n",
              "      <td>0.457386</td>\n",
              "      <td>0.495739</td>\n",
              "      <td>0.498580</td>\n",
              "      <td>0.284091</td>\n",
              "      <td>0.417614</td>\n",
              "      <td>0.649148</td>\n",
              "      <td>0.323864</td>\n",
              "      <td>0.573864</td>\n",
              "      <td>4.875000</td>\n",
              "    </tr>\n",
              "    <tr>\n",
              "      <th>std</th>\n",
              "      <td>0.448535</td>\n",
              "      <td>0.498152</td>\n",
              "      <td>0.498535</td>\n",
              "      <td>0.500337</td>\n",
              "      <td>0.500353</td>\n",
              "      <td>0.451301</td>\n",
              "      <td>0.493516</td>\n",
              "      <td>0.477576</td>\n",
              "      <td>0.468281</td>\n",
              "      <td>0.494866</td>\n",
              "      <td>2.501493</td>\n",
              "    </tr>\n",
              "    <tr>\n",
              "      <th>min</th>\n",
              "      <td>0.000000</td>\n",
              "      <td>0.000000</td>\n",
              "      <td>0.000000</td>\n",
              "      <td>0.000000</td>\n",
              "      <td>0.000000</td>\n",
              "      <td>0.000000</td>\n",
              "      <td>0.000000</td>\n",
              "      <td>0.000000</td>\n",
              "      <td>0.000000</td>\n",
              "      <td>0.000000</td>\n",
              "      <td>0.000000</td>\n",
              "    </tr>\n",
              "    <tr>\n",
              "      <th>25%</th>\n",
              "      <td>0.000000</td>\n",
              "      <td>0.000000</td>\n",
              "      <td>0.000000</td>\n",
              "      <td>0.000000</td>\n",
              "      <td>0.000000</td>\n",
              "      <td>0.000000</td>\n",
              "      <td>0.000000</td>\n",
              "      <td>0.000000</td>\n",
              "      <td>0.000000</td>\n",
              "      <td>0.000000</td>\n",
              "      <td>3.000000</td>\n",
              "    </tr>\n",
              "    <tr>\n",
              "      <th>50%</th>\n",
              "      <td>1.000000</td>\n",
              "      <td>0.000000</td>\n",
              "      <td>0.000000</td>\n",
              "      <td>0.000000</td>\n",
              "      <td>0.000000</td>\n",
              "      <td>0.000000</td>\n",
              "      <td>0.000000</td>\n",
              "      <td>1.000000</td>\n",
              "      <td>0.000000</td>\n",
              "      <td>1.000000</td>\n",
              "      <td>4.000000</td>\n",
              "    </tr>\n",
              "    <tr>\n",
              "      <th>75%</th>\n",
              "      <td>1.000000</td>\n",
              "      <td>1.000000</td>\n",
              "      <td>1.000000</td>\n",
              "      <td>1.000000</td>\n",
              "      <td>1.000000</td>\n",
              "      <td>1.000000</td>\n",
              "      <td>1.000000</td>\n",
              "      <td>1.000000</td>\n",
              "      <td>1.000000</td>\n",
              "      <td>1.000000</td>\n",
              "      <td>7.000000</td>\n",
              "    </tr>\n",
              "    <tr>\n",
              "      <th>max</th>\n",
              "      <td>1.000000</td>\n",
              "      <td>1.000000</td>\n",
              "      <td>1.000000</td>\n",
              "      <td>1.000000</td>\n",
              "      <td>1.000000</td>\n",
              "      <td>1.000000</td>\n",
              "      <td>1.000000</td>\n",
              "      <td>1.000000</td>\n",
              "      <td>1.000000</td>\n",
              "      <td>1.000000</td>\n",
              "      <td>10.000000</td>\n",
              "    </tr>\n",
              "  </tbody>\n",
              "</table>\n",
              "</div>"
            ],
            "text/plain": [
              "         A1_Score    A2_Score    A3_Score  ...    A9_Score   A10_Score      result\n",
              "count  704.000000  704.000000  704.000000  ...  704.000000  704.000000  704.000000\n",
              "mean     0.721591    0.453125    0.457386  ...    0.323864    0.573864    4.875000\n",
              "std      0.448535    0.498152    0.498535  ...    0.468281    0.494866    2.501493\n",
              "min      0.000000    0.000000    0.000000  ...    0.000000    0.000000    0.000000\n",
              "25%      0.000000    0.000000    0.000000  ...    0.000000    0.000000    3.000000\n",
              "50%      1.000000    0.000000    0.000000  ...    0.000000    1.000000    4.000000\n",
              "75%      1.000000    1.000000    1.000000  ...    1.000000    1.000000    7.000000\n",
              "max      1.000000    1.000000    1.000000  ...    1.000000    1.000000   10.000000\n",
              "\n",
              "[8 rows x 11 columns]"
            ]
          },
          "metadata": {
            "tags": []
          },
          "execution_count": 3
        }
      ]
    },
    {
      "cell_type": "code",
      "metadata": {
        "id": "m9JabEsAgage"
      },
      "source": [
        "#Cleaning data\n",
        "autism_df.replace('?',np.nan,inplace=True)"
      ],
      "execution_count": 4,
      "outputs": []
    },
    {
      "cell_type": "code",
      "metadata": {
        "colab": {
          "base_uri": "https://localhost:8080/"
        },
        "id": "b9yIsOJKgdZG",
        "outputId": "f86d0655-26e0-4a26-e9cd-1afa0930f963"
      },
      "source": [
        "autism_df.isnull().sum()"
      ],
      "execution_count": 5,
      "outputs": [
        {
          "output_type": "execute_result",
          "data": {
            "text/plain": [
              "A1_Score            0\n",
              "A2_Score            0\n",
              "A3_Score            0\n",
              "A4_Score            0\n",
              "A5_Score            0\n",
              "A6_Score            0\n",
              "A7_Score            0\n",
              "A8_Score            0\n",
              "A9_Score            0\n",
              "A10_Score           0\n",
              "age                 2\n",
              "gender              0\n",
              "ethnicity          95\n",
              "jaundice            0\n",
              "autism              0\n",
              "country_of_res      0\n",
              "used_app_before     0\n",
              "result              0\n",
              "age_desc            0\n",
              "relation           95\n",
              "Class_ASD           0\n",
              "dtype: int64"
            ]
          },
          "metadata": {
            "tags": []
          },
          "execution_count": 5
        }
      ]
    },
    {
      "cell_type": "code",
      "metadata": {
        "colab": {
          "base_uri": "https://localhost:8080/",
          "height": 285
        },
        "id": "As24QmzggkQP",
        "outputId": "d640820a-2374-471b-8f98-4e1c1f0da9c7"
      },
      "source": [
        "autism_df['Class_ASD'] = autism_df['Class_ASD'].replace(['YES}'],'YES')\n",
        "import matplotlib.pyplot as plt\n",
        "def PlotBarCharts(inpData, colsToPlot):\n",
        "    %matplotlib inline\n",
        "    import matplotlib.pyplot as plt\n",
        "    # Generating multiple subplots\n",
        "    fig, subPlot=plt.subplots(nrows=1, ncols=len(colsToPlot), figsize=(20,5))\n",
        "    fig.suptitle('Bar charts of: '+ str(colsToPlot))\n",
        "    for colName, plotNumber in zip(colsToPlot, range(len(colsToPlot))):\n",
        "        inpData.groupby(colName).size().plot(kind='bar',ax=subPlot[plotNumber])\n",
        "PlotBarCharts(inpData=autism_df, colsToPlot=['Class_ASD','gender'])"
      ],
      "execution_count": 6,
      "outputs": [
        {
          "output_type": "display_data",
          "data": {
            "image/png": "[encoded data removed]",
            "text/plain": [
              "<Figure size 1440x360 with 2 Axes>"
            ]
          },
          "metadata": {
            "tags": [],
            "needs_background": "light"
          }
        }
      ]
    },
    {
      "cell_type": "code",
      "metadata": {
        "colab": {
          "base_uri": "https://localhost:8080/",
          "height": 467
        },
        "id": "ofmSYTJ2gou9",
        "outputId": "7646d047-d616-4d01-f01b-e0ec72d42179"
      },
      "source": [
        "plt.figure(figsize=(8,6))\n",
        "sns.heatmap(autism_df.isnull(),yticklabels=False,cbar=False,cmap='viridis')"
      ],
      "execution_count": 7,
      "outputs": [
        {
          "output_type": "execute_result",
          "data": {
            "text/plain": [
              "<matplotlib.axes._subplots.AxesSubplot at 0x7f4888463890>"
            ]
          },
          "metadata": {
            "tags": []
          },
          "execution_count": 7
        },
        {
          "output_type": "display_data",
          "data": {
            "image/png": "[encoded data removed]",
            "text/plain": [
              "<Figure size 576x432 with 1 Axes>"
            ]
          },
          "metadata": {
            "tags": [],
            "needs_background": "light"
          }
        }
      ]
    },
    {
      "cell_type": "code",
      "metadata": {
        "colab": {
          "base_uri": "https://localhost:8080/",
          "height": 391
        },
        "id": "O7PcS9mXgtMS",
        "outputId": "7e19b68e-6202-446e-b95c-acc5851b9a42"
      },
      "source": [
        "plt.figure(figsize=(12,6))\n",
        "autism_df['age'].hist(bins=30,color='darkred',alpha=0.7)"
      ],
      "execution_count": 8,
      "outputs": [
        {
          "output_type": "execute_result",
          "data": {
            "text/plain": [
              "<matplotlib.axes._subplots.AxesSubplot at 0x7f487feb95d0>"
            ]
          },
          "metadata": {
            "tags": []
          },
          "execution_count": 8
        },
        {
          "output_type": "display_data",
          "data": {
            "image/png": "[encoded data removed]",
            "text/plain": [
              "<Figure size 864x432 with 1 Axes>"
            ]
          },
          "metadata": {
            "tags": [],
            "needs_background": "light"
          }
        }
      ]
    },
    {
      "cell_type": "code",
      "metadata": {
        "colab": {
          "base_uri": "https://localhost:8080/"
        },
        "id": "ISDYNGwOgwJb",
        "outputId": "fe63a0e1-7798-4cd0-c73c-b4c7b2c7990f"
      },
      "source": [
        "autism_df['age']=autism_df['age'].apply(lambda x:float(x))\n",
        "autism_df['age'].describe()"
      ],
      "execution_count": 9,
      "outputs": [
        {
          "output_type": "execute_result",
          "data": {
            "text/plain": [
              "count    702.000000\n",
              "mean      29.698006\n",
              "std       16.507465\n",
              "min       17.000000\n",
              "25%       21.000000\n",
              "50%       27.000000\n",
              "75%       35.000000\n",
              "max      383.000000\n",
              "Name: age, dtype: float64"
            ]
          },
          "metadata": {
            "tags": []
          },
          "execution_count": 9
        }
      ]
    },
    {
      "cell_type": "code",
      "metadata": {
        "id": "GWJTcfRCgy_B"
      },
      "source": [
        "autism_df.loc[autism_df.age == 383, 'age'] = 38"
      ],
      "execution_count": 10,
      "outputs": []
    },
    {
      "cell_type": "code",
      "metadata": {
        "colab": {
          "base_uri": "https://localhost:8080/"
        },
        "id": "YibJB63LhFRQ",
        "outputId": "7ef26a5a-cc08-451a-c70c-ce145794cd03"
      },
      "source": [
        "autism_df['age'].mean()"
      ],
      "execution_count": 11,
      "outputs": [
        {
          "output_type": "execute_result",
          "data": {
            "text/plain": [
              "29.206552706552706"
            ]
          },
          "metadata": {
            "tags": []
          },
          "execution_count": 11
        }
      ]
    },
    {
      "cell_type": "code",
      "metadata": {
        "colab": {
          "base_uri": "https://localhost:8080/"
        },
        "id": "2omPvckmhP_0",
        "outputId": "b6ce2d74-54f8-418a-8897-e86972ef41ef"
      },
      "source": [
        "autism_df.columns"
      ],
      "execution_count": 12,
      "outputs": [
        {
          "output_type": "execute_result",
          "data": {
            "text/plain": [
              "Index(['A1_Score', 'A2_Score', 'A3_Score', 'A4_Score', 'A5_Score', 'A6_Score',\n",
              "       'A7_Score', 'A8_Score', 'A9_Score', 'A10_Score', 'age', 'gender',\n",
              "       'ethnicity', 'jaundice', 'autism', 'country_of_res', 'used_app_before',\n",
              "       'result', 'age_desc', 'relation', 'Class_ASD'],\n",
              "      dtype='object')"
            ]
          },
          "metadata": {
            "tags": []
          },
          "execution_count": 12
        }
      ]
    },
    {
      "cell_type": "code",
      "metadata": {
        "colab": {
          "base_uri": "https://localhost:8080/"
        },
        "id": "Y560xjKImXrB",
        "outputId": "753e7097-449a-4d64-a79d-24a780ad0a6b"
      },
      "source": [
        "total = len(autism_df.index)\n",
        "positive = len(autism_df[autism_df['Class_ASD']==\"YES\"])\n",
        "negative = len(autism_df[autism_df['Class_ASD']==\"NO\"])\n",
        "\n",
        "print (\"Total number of records: {}\".format(total))\n",
        "print( \"Total number of positive autism cases:{}\".format(positive))\n",
        "print( \"Total number of negative autism cases:{}\".format(negative))"
      ],
      "execution_count": 13,
      "outputs": [
        {
          "output_type": "stream",
          "text": [
            "Total number of records: 704\n",
            "Total number of positive autism cases:189\n",
            "Total number of negative autism cases:515\n"
          ],
          "name": "stdout"
        }
      ]
    },
    {
      "cell_type": "code",
      "metadata": {
        "colab": {
          "base_uri": "https://localhost:8080/",
          "height": 617
        },
        "id": "UjMCMZU5_11-",
        "outputId": "d2546f73-c87c-41ff-bf75-6a3eb03da4a1"
      },
      "source": [
        "autism_df['age'] = autism_df['age'].fillna(0).astype(int)\n",
        "autism_df"
      ],
      "execution_count": 14,
      "outputs": [
        {
          "output_type": "execute_result",
          "data": {
            "text/html": [
              "<div>\n",
              "<style scoped>\n",
              "    .dataframe tbody tr th:only-of-type {\n",
              "        vertical-align: middle;\n",
              "    }\n",
              "\n",
              "    .dataframe tbody tr th {\n",
              "        vertical-align: top;\n",
              "    }\n",
              "\n",
              "    .dataframe thead th {\n",
              "        text-align: right;\n",
              "    }\n",
              "</style>\n",
              "<table border=\"1\" class=\"dataframe\">\n",
              "  <thead>\n",
              "    <tr style=\"text-align: right;\">\n",
              "      <th></th>\n",
              "      <th>A1_Score</th>\n",
              "      <th>A2_Score</th>\n",
              "      <th>A3_Score</th>\n",
              "      <th>A4_Score</th>\n",
              "      <th>A5_Score</th>\n",
              "      <th>A6_Score</th>\n",
              "      <th>A7_Score</th>\n",
              "      <th>A8_Score</th>\n",
              "      <th>A9_Score</th>\n",
              "      <th>A10_Score</th>\n",
              "      <th>age</th>\n",
              "      <th>gender</th>\n",
              "      <th>ethnicity</th>\n",
              "      <th>jaundice</th>\n",
              "      <th>autism</th>\n",
              "      <th>country_of_res</th>\n",
              "      <th>used_app_before</th>\n",
              "      <th>result</th>\n",
              "      <th>age_desc</th>\n",
              "      <th>relation</th>\n",
              "      <th>Class_ASD</th>\n",
              "    </tr>\n",
              "  </thead>\n",
              "  <tbody>\n",
              "    <tr>\n",
              "      <th>0</th>\n",
              "      <td>1</td>\n",
              "      <td>1</td>\n",
              "      <td>1</td>\n",
              "      <td>1</td>\n",
              "      <td>0</td>\n",
              "      <td>0</td>\n",
              "      <td>1</td>\n",
              "      <td>1</td>\n",
              "      <td>0</td>\n",
              "      <td>0</td>\n",
              "      <td>26</td>\n",
              "      <td>f</td>\n",
              "      <td>White-European</td>\n",
              "      <td>no</td>\n",
              "      <td>no</td>\n",
              "      <td>'United States'</td>\n",
              "      <td>no</td>\n",
              "      <td>6</td>\n",
              "      <td>'18 and more'</td>\n",
              "      <td>Self</td>\n",
              "      <td>NO</td>\n",
              "    </tr>\n",
              "    <tr>\n",
              "      <th>1</th>\n",
              "      <td>1</td>\n",
              "      <td>1</td>\n",
              "      <td>0</td>\n",
              "      <td>1</td>\n",
              "      <td>0</td>\n",
              "      <td>0</td>\n",
              "      <td>0</td>\n",
              "      <td>1</td>\n",
              "      <td>0</td>\n",
              "      <td>1</td>\n",
              "      <td>24</td>\n",
              "      <td>m</td>\n",
              "      <td>Latino</td>\n",
              "      <td>no</td>\n",
              "      <td>yes</td>\n",
              "      <td>Brazil</td>\n",
              "      <td>no</td>\n",
              "      <td>5</td>\n",
              "      <td>'18 and more'</td>\n",
              "      <td>Self</td>\n",
              "      <td>NO</td>\n",
              "    </tr>\n",
              "    <tr>\n",
              "      <th>2</th>\n",
              "      <td>1</td>\n",
              "      <td>1</td>\n",
              "      <td>0</td>\n",
              "      <td>1</td>\n",
              "      <td>1</td>\n",
              "      <td>0</td>\n",
              "      <td>1</td>\n",
              "      <td>1</td>\n",
              "      <td>1</td>\n",
              "      <td>1</td>\n",
              "      <td>27</td>\n",
              "      <td>m</td>\n",
              "      <td>Latino</td>\n",
              "      <td>yes</td>\n",
              "      <td>yes</td>\n",
              "      <td>Spain</td>\n",
              "      <td>no</td>\n",
              "      <td>8</td>\n",
              "      <td>'18 and more'</td>\n",
              "      <td>Parent</td>\n",
              "      <td>YES</td>\n",
              "    </tr>\n",
              "    <tr>\n",
              "      <th>3</th>\n",
              "      <td>1</td>\n",
              "      <td>1</td>\n",
              "      <td>0</td>\n",
              "      <td>1</td>\n",
              "      <td>0</td>\n",
              "      <td>0</td>\n",
              "      <td>1</td>\n",
              "      <td>1</td>\n",
              "      <td>0</td>\n",
              "      <td>1</td>\n",
              "      <td>35</td>\n",
              "      <td>f</td>\n",
              "      <td>White-European</td>\n",
              "      <td>no</td>\n",
              "      <td>yes</td>\n",
              "      <td>'United States'</td>\n",
              "      <td>no</td>\n",
              "      <td>6</td>\n",
              "      <td>'18 and more'</td>\n",
              "      <td>Self</td>\n",
              "      <td>NO</td>\n",
              "    </tr>\n",
              "    <tr>\n",
              "      <th>4</th>\n",
              "      <td>1</td>\n",
              "      <td>0</td>\n",
              "      <td>0</td>\n",
              "      <td>0</td>\n",
              "      <td>0</td>\n",
              "      <td>0</td>\n",
              "      <td>0</td>\n",
              "      <td>1</td>\n",
              "      <td>0</td>\n",
              "      <td>0</td>\n",
              "      <td>40</td>\n",
              "      <td>f</td>\n",
              "      <td>NaN</td>\n",
              "      <td>no</td>\n",
              "      <td>no</td>\n",
              "      <td>Egypt</td>\n",
              "      <td>no</td>\n",
              "      <td>2</td>\n",
              "      <td>'18 and more'</td>\n",
              "      <td>NaN</td>\n",
              "      <td>NO</td>\n",
              "    </tr>\n",
              "    <tr>\n",
              "      <th>...</th>\n",
              "      <td>...</td>\n",
              "      <td>...</td>\n",
              "      <td>...</td>\n",
              "      <td>...</td>\n",
              "      <td>...</td>\n",
              "      <td>...</td>\n",
              "      <td>...</td>\n",
              "      <td>...</td>\n",
              "      <td>...</td>\n",
              "      <td>...</td>\n",
              "      <td>...</td>\n",
              "      <td>...</td>\n",
              "      <td>...</td>\n",
              "      <td>...</td>\n",
              "      <td>...</td>\n",
              "      <td>...</td>\n",
              "      <td>...</td>\n",
              "      <td>...</td>\n",
              "      <td>...</td>\n",
              "      <td>...</td>\n",
              "      <td>...</td>\n",
              "    </tr>\n",
              "    <tr>\n",
              "      <th>699</th>\n",
              "      <td>0</td>\n",
              "      <td>0</td>\n",
              "      <td>0</td>\n",
              "      <td>0</td>\n",
              "      <td>0</td>\n",
              "      <td>0</td>\n",
              "      <td>1</td>\n",
              "      <td>1</td>\n",
              "      <td>0</td>\n",
              "      <td>1</td>\n",
              "      <td>17</td>\n",
              "      <td>m</td>\n",
              "      <td>White-European</td>\n",
              "      <td>no</td>\n",
              "      <td>no</td>\n",
              "      <td>Canada</td>\n",
              "      <td>no</td>\n",
              "      <td>3</td>\n",
              "      <td>'18 and more'</td>\n",
              "      <td>Self</td>\n",
              "      <td>NO</td>\n",
              "    </tr>\n",
              "    <tr>\n",
              "      <th>700</th>\n",
              "      <td>0</td>\n",
              "      <td>0</td>\n",
              "      <td>0</td>\n",
              "      <td>0</td>\n",
              "      <td>0</td>\n",
              "      <td>0</td>\n",
              "      <td>0</td>\n",
              "      <td>1</td>\n",
              "      <td>0</td>\n",
              "      <td>0</td>\n",
              "      <td>56</td>\n",
              "      <td>m</td>\n",
              "      <td>NaN</td>\n",
              "      <td>no</td>\n",
              "      <td>no</td>\n",
              "      <td>Iraq</td>\n",
              "      <td>no</td>\n",
              "      <td>1</td>\n",
              "      <td>'18 and more'</td>\n",
              "      <td>NaN</td>\n",
              "      <td>NO</td>\n",
              "    </tr>\n",
              "    <tr>\n",
              "      <th>701</th>\n",
              "      <td>0</td>\n",
              "      <td>0</td>\n",
              "      <td>1</td>\n",
              "      <td>0</td>\n",
              "      <td>0</td>\n",
              "      <td>0</td>\n",
              "      <td>1</td>\n",
              "      <td>1</td>\n",
              "      <td>0</td>\n",
              "      <td>0</td>\n",
              "      <td>50</td>\n",
              "      <td>f</td>\n",
              "      <td>'Middle Eastern '</td>\n",
              "      <td>no</td>\n",
              "      <td>no</td>\n",
              "      <td>'New Zealand'</td>\n",
              "      <td>no</td>\n",
              "      <td>3</td>\n",
              "      <td>'18 and more'</td>\n",
              "      <td>Parent</td>\n",
              "      <td>NO</td>\n",
              "    </tr>\n",
              "    <tr>\n",
              "      <th>702</th>\n",
              "      <td>0</td>\n",
              "      <td>0</td>\n",
              "      <td>0</td>\n",
              "      <td>0</td>\n",
              "      <td>1</td>\n",
              "      <td>0</td>\n",
              "      <td>0</td>\n",
              "      <td>0</td>\n",
              "      <td>0</td>\n",
              "      <td>0</td>\n",
              "      <td>31</td>\n",
              "      <td>f</td>\n",
              "      <td>Asian</td>\n",
              "      <td>yes</td>\n",
              "      <td>no</td>\n",
              "      <td>India</td>\n",
              "      <td>no</td>\n",
              "      <td>1</td>\n",
              "      <td>'18 and more'</td>\n",
              "      <td>Self</td>\n",
              "      <td>NO</td>\n",
              "    </tr>\n",
              "    <tr>\n",
              "      <th>703</th>\n",
              "      <td>0</td>\n",
              "      <td>1</td>\n",
              "      <td>0</td>\n",
              "      <td>1</td>\n",
              "      <td>1</td>\n",
              "      <td>0</td>\n",
              "      <td>1</td>\n",
              "      <td>1</td>\n",
              "      <td>1</td>\n",
              "      <td>1</td>\n",
              "      <td>25</td>\n",
              "      <td>f</td>\n",
              "      <td>White-European</td>\n",
              "      <td>no</td>\n",
              "      <td>no</td>\n",
              "      <td>Russia</td>\n",
              "      <td>no</td>\n",
              "      <td>7</td>\n",
              "      <td>'18 and more'</td>\n",
              "      <td>Self</td>\n",
              "      <td>YES</td>\n",
              "    </tr>\n",
              "  </tbody>\n",
              "</table>\n",
              "<p>704 rows × 21 columns</p>\n",
              "</div>"
            ],
            "text/plain": [
              "     A1_Score  A2_Score  A3_Score  ...       age_desc  relation  Class_ASD\n",
              "0           1         1         1  ...  '18 and more'      Self         NO\n",
              "1           1         1         0  ...  '18 and more'      Self         NO\n",
              "2           1         1         0  ...  '18 and more'    Parent        YES\n",
              "3           1         1         0  ...  '18 and more'      Self         NO\n",
              "4           1         0         0  ...  '18 and more'       NaN         NO\n",
              "..        ...       ...       ...  ...            ...       ...        ...\n",
              "699         0         0         0  ...  '18 and more'      Self         NO\n",
              "700         0         0         0  ...  '18 and more'       NaN         NO\n",
              "701         0         0         1  ...  '18 and more'    Parent         NO\n",
              "702         0         0         0  ...  '18 and more'      Self         NO\n",
              "703         0         1         0  ...  '18 and more'      Self        YES\n",
              "\n",
              "[704 rows x 21 columns]"
            ]
          },
          "metadata": {
            "tags": []
          },
          "execution_count": 14
        }
      ]
    },
    {
      "cell_type": "code",
      "metadata": {
        "colab": {
          "base_uri": "https://localhost:8080/"
        },
        "id": "IeOLqNPZhMNm",
        "outputId": "771e41e6-29d0-43c0-f761-2cf478498def"
      },
      "source": [
        "autism_df.dtypes"
      ],
      "execution_count": 15,
      "outputs": [
        {
          "output_type": "execute_result",
          "data": {
            "text/plain": [
              "A1_Score            int64\n",
              "A2_Score            int64\n",
              "A3_Score            int64\n",
              "A4_Score            int64\n",
              "A5_Score            int64\n",
              "A6_Score            int64\n",
              "A7_Score            int64\n",
              "A8_Score            int64\n",
              "A9_Score            int64\n",
              "A10_Score           int64\n",
              "age                 int64\n",
              "gender             object\n",
              "ethnicity          object\n",
              "jaundice           object\n",
              "autism             object\n",
              "country_of_res     object\n",
              "used_app_before    object\n",
              "result              int64\n",
              "age_desc           object\n",
              "relation           object\n",
              "Class_ASD          object\n",
              "dtype: object"
            ]
          },
          "metadata": {
            "tags": []
          },
          "execution_count": 15
        }
      ]
    },
    {
      "cell_type": "code",
      "metadata": {
        "id": "_N47dfbFMcdF"
      },
      "source": [
        "asd_raw = autism_df['Class_ASD']\n",
        "features_raw = autism_df[['age', 'gender', 'ethnicity', 'autism', 'country_of_res', 'result',\n",
        "                      'A1_Score','A2_Score','A3_Score','A4_Score','A5_Score','A6_Score','A7_Score','A8_Score',\n",
        "                      'A9_Score','A10_Score','age_desc','used_app_before','relation','jaundice']]"
      ],
      "execution_count": 16,
      "outputs": []
    },
    {
      "cell_type": "code",
      "metadata": {
        "colab": {
          "base_uri": "https://localhost:8080/",
          "height": 313
        },
        "id": "bVNGFA17P-6F",
        "outputId": "d437a98b-c91f-40a2-a353-a92e451f3183"
      },
      "source": [
        "#Scaling the data\n",
        "from sklearn.preprocessing import MinMaxScaler\n",
        "\n",
        "scaler = MinMaxScaler()\n",
        "numerical = ['age', 'result']\n",
        "features_minmax_transform = pd.DataFrame(data = features_raw)\n",
        "features_minmax_transform[numerical] = scaler.fit_transform(features_raw[numerical])\n",
        "features_minmax_transform\n",
        "# Show an example of a record with scaling applied\n",
        "display(features_minmax_transform.head(n = 5))"
      ],
      "execution_count": 17,
      "outputs": [
        {
          "output_type": "display_data",
          "data": {
            "text/html": [
              "<div>\n",
              "<style scoped>\n",
              "    .dataframe tbody tr th:only-of-type {\n",
              "        vertical-align: middle;\n",
              "    }\n",
              "\n",
              "    .dataframe tbody tr th {\n",
              "        vertical-align: top;\n",
              "    }\n",
              "\n",
              "    .dataframe thead th {\n",
              "        text-align: right;\n",
              "    }\n",
              "</style>\n",
              "<table border=\"1\" class=\"dataframe\">\n",
              "  <thead>\n",
              "    <tr style=\"text-align: right;\">\n",
              "      <th></th>\n",
              "      <th>age</th>\n",
              "      <th>gender</th>\n",
              "      <th>ethnicity</th>\n",
              "      <th>autism</th>\n",
              "      <th>country_of_res</th>\n",
              "      <th>result</th>\n",
              "      <th>A1_Score</th>\n",
              "      <th>A2_Score</th>\n",
              "      <th>A3_Score</th>\n",
              "      <th>A4_Score</th>\n",
              "      <th>A5_Score</th>\n",
              "      <th>A6_Score</th>\n",
              "      <th>A7_Score</th>\n",
              "      <th>A8_Score</th>\n",
              "      <th>A9_Score</th>\n",
              "      <th>A10_Score</th>\n",
              "      <th>age_desc</th>\n",
              "      <th>used_app_before</th>\n",
              "      <th>relation</th>\n",
              "      <th>jaundice</th>\n",
              "    </tr>\n",
              "  </thead>\n",
              "  <tbody>\n",
              "    <tr>\n",
              "      <th>0</th>\n",
              "      <td>0.406250</td>\n",
              "      <td>f</td>\n",
              "      <td>White-European</td>\n",
              "      <td>no</td>\n",
              "      <td>'United States'</td>\n",
              "      <td>0.6</td>\n",
              "      <td>1</td>\n",
              "      <td>1</td>\n",
              "      <td>1</td>\n",
              "      <td>1</td>\n",
              "      <td>0</td>\n",
              "      <td>0</td>\n",
              "      <td>1</td>\n",
              "      <td>1</td>\n",
              "      <td>0</td>\n",
              "      <td>0</td>\n",
              "      <td>'18 and more'</td>\n",
              "      <td>no</td>\n",
              "      <td>Self</td>\n",
              "      <td>no</td>\n",
              "    </tr>\n",
              "    <tr>\n",
              "      <th>1</th>\n",
              "      <td>0.375000</td>\n",
              "      <td>m</td>\n",
              "      <td>Latino</td>\n",
              "      <td>yes</td>\n",
              "      <td>Brazil</td>\n",
              "      <td>0.5</td>\n",
              "      <td>1</td>\n",
              "      <td>1</td>\n",
              "      <td>0</td>\n",
              "      <td>1</td>\n",
              "      <td>0</td>\n",
              "      <td>0</td>\n",
              "      <td>0</td>\n",
              "      <td>1</td>\n",
              "      <td>0</td>\n",
              "      <td>1</td>\n",
              "      <td>'18 and more'</td>\n",
              "      <td>no</td>\n",
              "      <td>Self</td>\n",
              "      <td>no</td>\n",
              "    </tr>\n",
              "    <tr>\n",
              "      <th>2</th>\n",
              "      <td>0.421875</td>\n",
              "      <td>m</td>\n",
              "      <td>Latino</td>\n",
              "      <td>yes</td>\n",
              "      <td>Spain</td>\n",
              "      <td>0.8</td>\n",
              "      <td>1</td>\n",
              "      <td>1</td>\n",
              "      <td>0</td>\n",
              "      <td>1</td>\n",
              "      <td>1</td>\n",
              "      <td>0</td>\n",
              "      <td>1</td>\n",
              "      <td>1</td>\n",
              "      <td>1</td>\n",
              "      <td>1</td>\n",
              "      <td>'18 and more'</td>\n",
              "      <td>no</td>\n",
              "      <td>Parent</td>\n",
              "      <td>yes</td>\n",
              "    </tr>\n",
              "    <tr>\n",
              "      <th>3</th>\n",
              "      <td>0.546875</td>\n",
              "      <td>f</td>\n",
              "      <td>White-European</td>\n",
              "      <td>yes</td>\n",
              "      <td>'United States'</td>\n",
              "      <td>0.6</td>\n",
              "      <td>1</td>\n",
              "      <td>1</td>\n",
              "      <td>0</td>\n",
              "      <td>1</td>\n",
              "      <td>0</td>\n",
              "      <td>0</td>\n",
              "      <td>1</td>\n",
              "      <td>1</td>\n",
              "      <td>0</td>\n",
              "      <td>1</td>\n",
              "      <td>'18 and more'</td>\n",
              "      <td>no</td>\n",
              "      <td>Self</td>\n",
              "      <td>no</td>\n",
              "    </tr>\n",
              "    <tr>\n",
              "      <th>4</th>\n",
              "      <td>0.625000</td>\n",
              "      <td>f</td>\n",
              "      <td>NaN</td>\n",
              "      <td>no</td>\n",
              "      <td>Egypt</td>\n",
              "      <td>0.2</td>\n",
              "      <td>1</td>\n",
              "      <td>0</td>\n",
              "      <td>0</td>\n",
              "      <td>0</td>\n",
              "      <td>0</td>\n",
              "      <td>0</td>\n",
              "      <td>0</td>\n",
              "      <td>1</td>\n",
              "      <td>0</td>\n",
              "      <td>0</td>\n",
              "      <td>'18 and more'</td>\n",
              "      <td>no</td>\n",
              "      <td>NaN</td>\n",
              "      <td>no</td>\n",
              "    </tr>\n",
              "  </tbody>\n",
              "</table>\n",
              "</div>"
            ],
            "text/plain": [
              "        age gender       ethnicity  ... used_app_before relation  jaundice\n",
              "0  0.406250      f  White-European  ...              no     Self        no\n",
              "1  0.375000      m          Latino  ...              no     Self        no\n",
              "2  0.421875      m          Latino  ...              no   Parent       yes\n",
              "3  0.546875      f  White-European  ...              no     Self        no\n",
              "4  0.625000      f             NaN  ...              no      NaN        no\n",
              "\n",
              "[5 rows x 20 columns]"
            ]
          },
          "metadata": {
            "tags": []
          }
        }
      ]
    },
    {
      "cell_type": "code",
      "metadata": {
        "colab": {
          "base_uri": "https://localhost:8080/",
          "height": 290
        },
        "id": "IG98UhTAQoIW",
        "outputId": "ad64d90a-99f4-4667-86ce-5b0c3e067f2b"
      },
      "source": [
        "#One-hot encode the 'features_minmax_transform' data using pandas.get_dummies()\n",
        "features_final = pd.get_dummies(features_minmax_transform)\n",
        "display(features_final.head(5))"
      ],
      "execution_count": 18,
      "outputs": [
        {
          "output_type": "display_data",
          "data": {
            "text/html": [
              "<div>\n",
              "<style scoped>\n",
              "    .dataframe tbody tr th:only-of-type {\n",
              "        vertical-align: middle;\n",
              "    }\n",
              "\n",
              "    .dataframe tbody tr th {\n",
              "        vertical-align: top;\n",
              "    }\n",
              "\n",
              "    .dataframe thead th {\n",
              "        text-align: right;\n",
              "    }\n",
              "</style>\n",
              "<table border=\"1\" class=\"dataframe\">\n",
              "  <thead>\n",
              "    <tr style=\"text-align: right;\">\n",
              "      <th></th>\n",
              "      <th>age</th>\n",
              "      <th>result</th>\n",
              "      <th>A1_Score</th>\n",
              "      <th>A2_Score</th>\n",
              "      <th>A3_Score</th>\n",
              "      <th>A4_Score</th>\n",
              "      <th>A5_Score</th>\n",
              "      <th>A6_Score</th>\n",
              "      <th>A7_Score</th>\n",
              "      <th>A8_Score</th>\n",
              "      <th>A9_Score</th>\n",
              "      <th>A10_Score</th>\n",
              "      <th>gender_f</th>\n",
              "      <th>gender_m</th>\n",
              "      <th>ethnicity_'Middle Eastern '</th>\n",
              "      <th>ethnicity_'South Asian'</th>\n",
              "      <th>ethnicity_Asian</th>\n",
              "      <th>ethnicity_Black</th>\n",
              "      <th>ethnicity_Hispanic</th>\n",
              "      <th>ethnicity_Latino</th>\n",
              "      <th>ethnicity_Others</th>\n",
              "      <th>ethnicity_Pasifika</th>\n",
              "      <th>ethnicity_Turkish</th>\n",
              "      <th>ethnicity_White-European</th>\n",
              "      <th>ethnicity_others</th>\n",
              "      <th>autism_no</th>\n",
              "      <th>autism_yes</th>\n",
              "      <th>country_of_res_'Costa Rica'</th>\n",
              "      <th>country_of_res_'Czech Republic'</th>\n",
              "      <th>country_of_res_'Hong Kong'</th>\n",
              "      <th>country_of_res_'New Zealand'</th>\n",
              "      <th>country_of_res_'Saudi Arabia'</th>\n",
              "      <th>country_of_res_'Sierra Leone'</th>\n",
              "      <th>country_of_res_'South Africa'</th>\n",
              "      <th>country_of_res_'Sri Lanka'</th>\n",
              "      <th>country_of_res_'United Arab Emirates'</th>\n",
              "      <th>country_of_res_'United Kingdom'</th>\n",
              "      <th>country_of_res_'United States'</th>\n",
              "      <th>country_of_res_'Viet Nam'</th>\n",
              "      <th>country_of_res_Afghanistan</th>\n",
              "      <th>...</th>\n",
              "      <th>country_of_res_Iceland</th>\n",
              "      <th>country_of_res_India</th>\n",
              "      <th>country_of_res_Indonesia</th>\n",
              "      <th>country_of_res_Iran</th>\n",
              "      <th>country_of_res_Iraq</th>\n",
              "      <th>country_of_res_Ireland</th>\n",
              "      <th>country_of_res_Italy</th>\n",
              "      <th>country_of_res_Japan</th>\n",
              "      <th>country_of_res_Jordan</th>\n",
              "      <th>country_of_res_Kazakhstan</th>\n",
              "      <th>country_of_res_Lebanon</th>\n",
              "      <th>country_of_res_Malaysia</th>\n",
              "      <th>country_of_res_Mexico</th>\n",
              "      <th>country_of_res_Nepal</th>\n",
              "      <th>country_of_res_Netherlands</th>\n",
              "      <th>country_of_res_Nicaragua</th>\n",
              "      <th>country_of_res_Niger</th>\n",
              "      <th>country_of_res_Oman</th>\n",
              "      <th>country_of_res_Pakistan</th>\n",
              "      <th>country_of_res_Philippines</th>\n",
              "      <th>country_of_res_Portugal</th>\n",
              "      <th>country_of_res_Romania</th>\n",
              "      <th>country_of_res_Russia</th>\n",
              "      <th>country_of_res_Serbia</th>\n",
              "      <th>country_of_res_Spain</th>\n",
              "      <th>country_of_res_Sweden</th>\n",
              "      <th>country_of_res_Tonga</th>\n",
              "      <th>country_of_res_Turkey</th>\n",
              "      <th>country_of_res_Ukraine</th>\n",
              "      <th>country_of_res_Uruguay</th>\n",
              "      <th>age_desc_'18 and more'</th>\n",
              "      <th>used_app_before_no</th>\n",
              "      <th>used_app_before_yes</th>\n",
              "      <th>relation_'Health care professional'</th>\n",
              "      <th>relation_Others</th>\n",
              "      <th>relation_Parent</th>\n",
              "      <th>relation_Relative</th>\n",
              "      <th>relation_Self</th>\n",
              "      <th>jaundice_no</th>\n",
              "      <th>jaundice_yes</th>\n",
              "    </tr>\n",
              "  </thead>\n",
              "  <tbody>\n",
              "    <tr>\n",
              "      <th>0</th>\n",
              "      <td>0.406250</td>\n",
              "      <td>0.6</td>\n",
              "      <td>1</td>\n",
              "      <td>1</td>\n",
              "      <td>1</td>\n",
              "      <td>1</td>\n",
              "      <td>0</td>\n",
              "      <td>0</td>\n",
              "      <td>1</td>\n",
              "      <td>1</td>\n",
              "      <td>0</td>\n",
              "      <td>0</td>\n",
              "      <td>1</td>\n",
              "      <td>0</td>\n",
              "      <td>0</td>\n",
              "      <td>0</td>\n",
              "      <td>0</td>\n",
              "      <td>0</td>\n",
              "      <td>0</td>\n",
              "      <td>0</td>\n",
              "      <td>0</td>\n",
              "      <td>0</td>\n",
              "      <td>0</td>\n",
              "      <td>1</td>\n",
              "      <td>0</td>\n",
              "      <td>1</td>\n",
              "      <td>0</td>\n",
              "      <td>0</td>\n",
              "      <td>0</td>\n",
              "      <td>0</td>\n",
              "      <td>0</td>\n",
              "      <td>0</td>\n",
              "      <td>0</td>\n",
              "      <td>0</td>\n",
              "      <td>0</td>\n",
              "      <td>0</td>\n",
              "      <td>0</td>\n",
              "      <td>1</td>\n",
              "      <td>0</td>\n",
              "      <td>0</td>\n",
              "      <td>...</td>\n",
              "      <td>0</td>\n",
              "      <td>0</td>\n",
              "      <td>0</td>\n",
              "      <td>0</td>\n",
              "      <td>0</td>\n",
              "      <td>0</td>\n",
              "      <td>0</td>\n",
              "      <td>0</td>\n",
              "      <td>0</td>\n",
              "      <td>0</td>\n",
              "      <td>0</td>\n",
              "      <td>0</td>\n",
              "      <td>0</td>\n",
              "      <td>0</td>\n",
              "      <td>0</td>\n",
              "      <td>0</td>\n",
              "      <td>0</td>\n",
              "      <td>0</td>\n",
              "      <td>0</td>\n",
              "      <td>0</td>\n",
              "      <td>0</td>\n",
              "      <td>0</td>\n",
              "      <td>0</td>\n",
              "      <td>0</td>\n",
              "      <td>0</td>\n",
              "      <td>0</td>\n",
              "      <td>0</td>\n",
              "      <td>0</td>\n",
              "      <td>0</td>\n",
              "      <td>0</td>\n",
              "      <td>1</td>\n",
              "      <td>1</td>\n",
              "      <td>0</td>\n",
              "      <td>0</td>\n",
              "      <td>0</td>\n",
              "      <td>0</td>\n",
              "      <td>0</td>\n",
              "      <td>1</td>\n",
              "      <td>1</td>\n",
              "      <td>0</td>\n",
              "    </tr>\n",
              "    <tr>\n",
              "      <th>1</th>\n",
              "      <td>0.375000</td>\n",
              "      <td>0.5</td>\n",
              "      <td>1</td>\n",
              "      <td>1</td>\n",
              "      <td>0</td>\n",
              "      <td>1</td>\n",
              "      <td>0</td>\n",
              "      <td>0</td>\n",
              "      <td>0</td>\n",
              "      <td>1</td>\n",
              "      <td>0</td>\n",
              "      <td>1</td>\n",
              "      <td>0</td>\n",
              "      <td>1</td>\n",
              "      <td>0</td>\n",
              "      <td>0</td>\n",
              "      <td>0</td>\n",
              "      <td>0</td>\n",
              "      <td>0</td>\n",
              "      <td>1</td>\n",
              "      <td>0</td>\n",
              "      <td>0</td>\n",
              "      <td>0</td>\n",
              "      <td>0</td>\n",
              "      <td>0</td>\n",
              "      <td>0</td>\n",
              "      <td>1</td>\n",
              "      <td>0</td>\n",
              "      <td>0</td>\n",
              "      <td>0</td>\n",
              "      <td>0</td>\n",
              "      <td>0</td>\n",
              "      <td>0</td>\n",
              "      <td>0</td>\n",
              "      <td>0</td>\n",
              "      <td>0</td>\n",
              "      <td>0</td>\n",
              "      <td>0</td>\n",
              "      <td>0</td>\n",
              "      <td>0</td>\n",
              "      <td>...</td>\n",
              "      <td>0</td>\n",
              "      <td>0</td>\n",
              "      <td>0</td>\n",
              "      <td>0</td>\n",
              "      <td>0</td>\n",
              "      <td>0</td>\n",
              "      <td>0</td>\n",
              "      <td>0</td>\n",
              "      <td>0</td>\n",
              "      <td>0</td>\n",
              "      <td>0</td>\n",
              "      <td>0</td>\n",
              "      <td>0</td>\n",
              "      <td>0</td>\n",
              "      <td>0</td>\n",
              "      <td>0</td>\n",
              "      <td>0</td>\n",
              "      <td>0</td>\n",
              "      <td>0</td>\n",
              "      <td>0</td>\n",
              "      <td>0</td>\n",
              "      <td>0</td>\n",
              "      <td>0</td>\n",
              "      <td>0</td>\n",
              "      <td>0</td>\n",
              "      <td>0</td>\n",
              "      <td>0</td>\n",
              "      <td>0</td>\n",
              "      <td>0</td>\n",
              "      <td>0</td>\n",
              "      <td>1</td>\n",
              "      <td>1</td>\n",
              "      <td>0</td>\n",
              "      <td>0</td>\n",
              "      <td>0</td>\n",
              "      <td>0</td>\n",
              "      <td>0</td>\n",
              "      <td>1</td>\n",
              "      <td>1</td>\n",
              "      <td>0</td>\n",
              "    </tr>\n",
              "    <tr>\n",
              "      <th>2</th>\n",
              "      <td>0.421875</td>\n",
              "      <td>0.8</td>\n",
              "      <td>1</td>\n",
              "      <td>1</td>\n",
              "      <td>0</td>\n",
              "      <td>1</td>\n",
              "      <td>1</td>\n",
              "      <td>0</td>\n",
              "      <td>1</td>\n",
              "      <td>1</td>\n",
              "      <td>1</td>\n",
              "      <td>1</td>\n",
              "      <td>0</td>\n",
              "      <td>1</td>\n",
              "      <td>0</td>\n",
              "      <td>0</td>\n",
              "      <td>0</td>\n",
              "      <td>0</td>\n",
              "      <td>0</td>\n",
              "      <td>1</td>\n",
              "      <td>0</td>\n",
              "      <td>0</td>\n",
              "      <td>0</td>\n",
              "      <td>0</td>\n",
              "      <td>0</td>\n",
              "      <td>0</td>\n",
              "      <td>1</td>\n",
              "      <td>0</td>\n",
              "      <td>0</td>\n",
              "      <td>0</td>\n",
              "      <td>0</td>\n",
              "      <td>0</td>\n",
              "      <td>0</td>\n",
              "      <td>0</td>\n",
              "      <td>0</td>\n",
              "      <td>0</td>\n",
              "      <td>0</td>\n",
              "      <td>0</td>\n",
              "      <td>0</td>\n",
              "      <td>0</td>\n",
              "      <td>...</td>\n",
              "      <td>0</td>\n",
              "      <td>0</td>\n",
              "      <td>0</td>\n",
              "      <td>0</td>\n",
              "      <td>0</td>\n",
              "      <td>0</td>\n",
              "      <td>0</td>\n",
              "      <td>0</td>\n",
              "      <td>0</td>\n",
              "      <td>0</td>\n",
              "      <td>0</td>\n",
              "      <td>0</td>\n",
              "      <td>0</td>\n",
              "      <td>0</td>\n",
              "      <td>0</td>\n",
              "      <td>0</td>\n",
              "      <td>0</td>\n",
              "      <td>0</td>\n",
              "      <td>0</td>\n",
              "      <td>0</td>\n",
              "      <td>0</td>\n",
              "      <td>0</td>\n",
              "      <td>0</td>\n",
              "      <td>0</td>\n",
              "      <td>1</td>\n",
              "      <td>0</td>\n",
              "      <td>0</td>\n",
              "      <td>0</td>\n",
              "      <td>0</td>\n",
              "      <td>0</td>\n",
              "      <td>1</td>\n",
              "      <td>1</td>\n",
              "      <td>0</td>\n",
              "      <td>0</td>\n",
              "      <td>0</td>\n",
              "      <td>1</td>\n",
              "      <td>0</td>\n",
              "      <td>0</td>\n",
              "      <td>0</td>\n",
              "      <td>1</td>\n",
              "    </tr>\n",
              "    <tr>\n",
              "      <th>3</th>\n",
              "      <td>0.546875</td>\n",
              "      <td>0.6</td>\n",
              "      <td>1</td>\n",
              "      <td>1</td>\n",
              "      <td>0</td>\n",
              "      <td>1</td>\n",
              "      <td>0</td>\n",
              "      <td>0</td>\n",
              "      <td>1</td>\n",
              "      <td>1</td>\n",
              "      <td>0</td>\n",
              "      <td>1</td>\n",
              "      <td>1</td>\n",
              "      <td>0</td>\n",
              "      <td>0</td>\n",
              "      <td>0</td>\n",
              "      <td>0</td>\n",
              "      <td>0</td>\n",
              "      <td>0</td>\n",
              "      <td>0</td>\n",
              "      <td>0</td>\n",
              "      <td>0</td>\n",
              "      <td>0</td>\n",
              "      <td>1</td>\n",
              "      <td>0</td>\n",
              "      <td>0</td>\n",
              "      <td>1</td>\n",
              "      <td>0</td>\n",
              "      <td>0</td>\n",
              "      <td>0</td>\n",
              "      <td>0</td>\n",
              "      <td>0</td>\n",
              "      <td>0</td>\n",
              "      <td>0</td>\n",
              "      <td>0</td>\n",
              "      <td>0</td>\n",
              "      <td>0</td>\n",
              "      <td>1</td>\n",
              "      <td>0</td>\n",
              "      <td>0</td>\n",
              "      <td>...</td>\n",
              "      <td>0</td>\n",
              "      <td>0</td>\n",
              "      <td>0</td>\n",
              "      <td>0</td>\n",
              "      <td>0</td>\n",
              "      <td>0</td>\n",
              "      <td>0</td>\n",
              "      <td>0</td>\n",
              "      <td>0</td>\n",
              "      <td>0</td>\n",
              "      <td>0</td>\n",
              "      <td>0</td>\n",
              "      <td>0</td>\n",
              "      <td>0</td>\n",
              "      <td>0</td>\n",
              "      <td>0</td>\n",
              "      <td>0</td>\n",
              "      <td>0</td>\n",
              "      <td>0</td>\n",
              "      <td>0</td>\n",
              "      <td>0</td>\n",
              "      <td>0</td>\n",
              "      <td>0</td>\n",
              "      <td>0</td>\n",
              "      <td>0</td>\n",
              "      <td>0</td>\n",
              "      <td>0</td>\n",
              "      <td>0</td>\n",
              "      <td>0</td>\n",
              "      <td>0</td>\n",
              "      <td>1</td>\n",
              "      <td>1</td>\n",
              "      <td>0</td>\n",
              "      <td>0</td>\n",
              "      <td>0</td>\n",
              "      <td>0</td>\n",
              "      <td>0</td>\n",
              "      <td>1</td>\n",
              "      <td>1</td>\n",
              "      <td>0</td>\n",
              "    </tr>\n",
              "    <tr>\n",
              "      <th>4</th>\n",
              "      <td>0.625000</td>\n",
              "      <td>0.2</td>\n",
              "      <td>1</td>\n",
              "      <td>0</td>\n",
              "      <td>0</td>\n",
              "      <td>0</td>\n",
              "      <td>0</td>\n",
              "      <td>0</td>\n",
              "      <td>0</td>\n",
              "      <td>1</td>\n",
              "      <td>0</td>\n",
              "      <td>0</td>\n",
              "      <td>1</td>\n",
              "      <td>0</td>\n",
              "      <td>0</td>\n",
              "      <td>0</td>\n",
              "      <td>0</td>\n",
              "      <td>0</td>\n",
              "      <td>0</td>\n",
              "      <td>0</td>\n",
              "      <td>0</td>\n",
              "      <td>0</td>\n",
              "      <td>0</td>\n",
              "      <td>0</td>\n",
              "      <td>0</td>\n",
              "      <td>1</td>\n",
              "      <td>0</td>\n",
              "      <td>0</td>\n",
              "      <td>0</td>\n",
              "      <td>0</td>\n",
              "      <td>0</td>\n",
              "      <td>0</td>\n",
              "      <td>0</td>\n",
              "      <td>0</td>\n",
              "      <td>0</td>\n",
              "      <td>0</td>\n",
              "      <td>0</td>\n",
              "      <td>0</td>\n",
              "      <td>0</td>\n",
              "      <td>0</td>\n",
              "      <td>...</td>\n",
              "      <td>0</td>\n",
              "      <td>0</td>\n",
              "      <td>0</td>\n",
              "      <td>0</td>\n",
              "      <td>0</td>\n",
              "      <td>0</td>\n",
              "      <td>0</td>\n",
              "      <td>0</td>\n",
              "      <td>0</td>\n",
              "      <td>0</td>\n",
              "      <td>0</td>\n",
              "      <td>0</td>\n",
              "      <td>0</td>\n",
              "      <td>0</td>\n",
              "      <td>0</td>\n",
              "      <td>0</td>\n",
              "      <td>0</td>\n",
              "      <td>0</td>\n",
              "      <td>0</td>\n",
              "      <td>0</td>\n",
              "      <td>0</td>\n",
              "      <td>0</td>\n",
              "      <td>0</td>\n",
              "      <td>0</td>\n",
              "      <td>0</td>\n",
              "      <td>0</td>\n",
              "      <td>0</td>\n",
              "      <td>0</td>\n",
              "      <td>0</td>\n",
              "      <td>0</td>\n",
              "      <td>1</td>\n",
              "      <td>1</td>\n",
              "      <td>0</td>\n",
              "      <td>0</td>\n",
              "      <td>0</td>\n",
              "      <td>0</td>\n",
              "      <td>0</td>\n",
              "      <td>0</td>\n",
              "      <td>1</td>\n",
              "      <td>0</td>\n",
              "    </tr>\n",
              "  </tbody>\n",
              "</table>\n",
              "<p>5 rows × 104 columns</p>\n",
              "</div>"
            ],
            "text/plain": [
              "        age  result  A1_Score  ...  relation_Self  jaundice_no  jaundice_yes\n",
              "0  0.406250     0.6         1  ...              1            1             0\n",
              "1  0.375000     0.5         1  ...              1            1             0\n",
              "2  0.421875     0.8         1  ...              0            0             1\n",
              "3  0.546875     0.6         1  ...              1            1             0\n",
              "4  0.625000     0.2         1  ...              0            1             0\n",
              "\n",
              "[5 rows x 104 columns]"
            ]
          },
          "metadata": {
            "tags": []
          }
        }
      ]
    },
    {
      "cell_type": "code",
      "metadata": {
        "colab": {
          "base_uri": "https://localhost:8080/"
        },
        "id": "r5gaIKLvSwnC",
        "outputId": "a497be3e-7f07-4c1c-a584-338ef806ccd6"
      },
      "source": [
        "asd_classes = asd_raw.apply(lambda x: 1 if x == 'YES' else 0)\n",
        "# Print the number of features after one-hot encoding\n",
        "encoded = list(features_final.columns)\n",
        "encoded"
      ],
      "execution_count": 19,
      "outputs": [
        {
          "output_type": "execute_result",
          "data": {
            "text/plain": [
              "['age',\n",
              " 'result',\n",
              " 'A1_Score',\n",
              " 'A2_Score',\n",
              " 'A3_Score',\n",
              " 'A4_Score',\n",
              " 'A5_Score',\n",
              " 'A6_Score',\n",
              " 'A7_Score',\n",
              " 'A8_Score',\n",
              " 'A9_Score',\n",
              " 'A10_Score',\n",
              " 'gender_f',\n",
              " 'gender_m',\n",
              " \"ethnicity_'Middle Eastern '\",\n",
              " \"ethnicity_'South Asian'\",\n",
              " 'ethnicity_Asian',\n",
              " 'ethnicity_Black',\n",
              " 'ethnicity_Hispanic',\n",
              " 'ethnicity_Latino',\n",
              " 'ethnicity_Others',\n",
              " 'ethnicity_Pasifika',\n",
              " 'ethnicity_Turkish',\n",
              " 'ethnicity_White-European',\n",
              " 'ethnicity_others',\n",
              " 'autism_no',\n",
              " 'autism_yes',\n",
              " \"country_of_res_'Costa Rica'\",\n",
              " \"country_of_res_'Czech Republic'\",\n",
              " \"country_of_res_'Hong Kong'\",\n",
              " \"country_of_res_'New Zealand'\",\n",
              " \"country_of_res_'Saudi Arabia'\",\n",
              " \"country_of_res_'Sierra Leone'\",\n",
              " \"country_of_res_'South Africa'\",\n",
              " \"country_of_res_'Sri Lanka'\",\n",
              " \"country_of_res_'United Arab Emirates'\",\n",
              " \"country_of_res_'United Kingdom'\",\n",
              " \"country_of_res_'United States'\",\n",
              " \"country_of_res_'Viet Nam'\",\n",
              " 'country_of_res_Afghanistan',\n",
              " 'country_of_res_AmericanSamoa',\n",
              " 'country_of_res_Angola',\n",
              " 'country_of_res_Argentina',\n",
              " 'country_of_res_Armenia',\n",
              " 'country_of_res_Aruba',\n",
              " 'country_of_res_Australia',\n",
              " 'country_of_res_Austria',\n",
              " 'country_of_res_Azerbaijan',\n",
              " 'country_of_res_Bahamas',\n",
              " 'country_of_res_Bangladesh',\n",
              " 'country_of_res_Belgium',\n",
              " 'country_of_res_Bolivia',\n",
              " 'country_of_res_Brazil',\n",
              " 'country_of_res_Burundi',\n",
              " 'country_of_res_Canada',\n",
              " 'country_of_res_Chile',\n",
              " 'country_of_res_China',\n",
              " 'country_of_res_Cyprus',\n",
              " 'country_of_res_Ecuador',\n",
              " 'country_of_res_Egypt',\n",
              " 'country_of_res_Ethiopia',\n",
              " 'country_of_res_Finland',\n",
              " 'country_of_res_France',\n",
              " 'country_of_res_Germany',\n",
              " 'country_of_res_Iceland',\n",
              " 'country_of_res_India',\n",
              " 'country_of_res_Indonesia',\n",
              " 'country_of_res_Iran',\n",
              " 'country_of_res_Iraq',\n",
              " 'country_of_res_Ireland',\n",
              " 'country_of_res_Italy',\n",
              " 'country_of_res_Japan',\n",
              " 'country_of_res_Jordan',\n",
              " 'country_of_res_Kazakhstan',\n",
              " 'country_of_res_Lebanon',\n",
              " 'country_of_res_Malaysia',\n",
              " 'country_of_res_Mexico',\n",
              " 'country_of_res_Nepal',\n",
              " 'country_of_res_Netherlands',\n",
              " 'country_of_res_Nicaragua',\n",
              " 'country_of_res_Niger',\n",
              " 'country_of_res_Oman',\n",
              " 'country_of_res_Pakistan',\n",
              " 'country_of_res_Philippines',\n",
              " 'country_of_res_Portugal',\n",
              " 'country_of_res_Romania',\n",
              " 'country_of_res_Russia',\n",
              " 'country_of_res_Serbia',\n",
              " 'country_of_res_Spain',\n",
              " 'country_of_res_Sweden',\n",
              " 'country_of_res_Tonga',\n",
              " 'country_of_res_Turkey',\n",
              " 'country_of_res_Ukraine',\n",
              " 'country_of_res_Uruguay',\n",
              " \"age_desc_'18 and more'\",\n",
              " 'used_app_before_no',\n",
              " 'used_app_before_yes',\n",
              " \"relation_'Health care professional'\",\n",
              " 'relation_Others',\n",
              " 'relation_Parent',\n",
              " 'relation_Relative',\n",
              " 'relation_Self',\n",
              " 'jaundice_no',\n",
              " 'jaundice_yes']"
            ]
          },
          "metadata": {
            "tags": []
          },
          "execution_count": 19
        }
      ]
    },
    {
      "cell_type": "code",
      "metadata": {
        "colab": {
          "base_uri": "https://localhost:8080/",
          "height": 313
        },
        "id": "xy4ZfJzQSCHv",
        "outputId": "e8318142-e17f-4e43-add9-d76fa751ef87"
      },
      "source": [
        "# histogram of Class_ASD\n",
        "plt.hist(features_final, bins=10)\n",
        "# x-axis limit from 0 to 1\n",
        "plt.xlim(0,1)\n",
        "plt.title('Histogram of Class_ASD')\n",
        "plt.xlabel('Class_ASD from processed data')\n",
        "plt.ylabel('Frequency')"
      ],
      "execution_count": 20,
      "outputs": [
        {
          "output_type": "execute_result",
          "data": {
            "text/plain": [
              "Text(0, 0.5, 'Frequency')"
            ]
          },
          "metadata": {
            "tags": []
          },
          "execution_count": 20
        },
        {
          "output_type": "display_data",
          "data": {
            "image/png": "[encoded data removed]",
            "text/plain": [
              "<Figure size 432x288 with 1 Axes>"
            ]
          },
          "metadata": {
            "tags": [],
            "needs_background": "light"
          }
        }
      ]
    },
    {
      "cell_type": "code",
      "metadata": {
        "colab": {
          "base_uri": "https://localhost:8080/"
        },
        "id": "KB5s0L8iSOza",
        "outputId": "903a574b-ed90-45db-e128-449dc36521ce"
      },
      "source": [
        "from sklearn.model_selection import train_test_split\n",
        "np.random.seed(1234)\n",
        "X_train, X_test, y_train, y_test = train_test_split(features_final, asd_classes, train_size=0.80, random_state=1)\n",
        "# Show the results of the split\n",
        "print(X_test.shape[0])\n",
        "print(X_train.shape[0])\n"
      ],
      "execution_count": 21,
      "outputs": [
        {
          "output_type": "stream",
          "text": [
            "141\n",
            "563\n"
          ],
          "name": "stdout"
        }
      ]
    },
    {
      "cell_type": "code",
      "metadata": {
        "colab": {
          "base_uri": "https://localhost:8080/"
        },
        "id": "SyA-h2O3hosJ",
        "outputId": "1a3fcae4-22a2-4fbb-bb41-f008426af742"
      },
      "source": [
        "from sklearn.metrics import fbeta_score\n",
        "from sklearn.metrics import accuracy_score\n",
        "from sklearn.metrics import make_scorer\n",
        "from sklearn.svm import SVC\n",
        "from sklearn.model_selection import GridSearchCV\n",
        "def f_beta_score(y_true, y_predict):\n",
        "    return fbeta_score(y_true, y_predict, beta = 0.5)\n",
        "# TODO: Initialize the classifier\n",
        "clf = SVC(random_state = 1)\n",
        "# TODO: Create the parameters list you wish to tune, using a dictionary if needed.\n",
        "# HINT: parameters = {'parameter_1': [value1, value2], 'parameter_2': [value1, value2]}\n",
        "parameters = {'C':range(1,6),'kernel':['linear','poly','rbf','sigmoid'],'degree':range(1,6)}\n",
        "# TODO: Make an fbeta_score scoring object using make_scorer()\n",
        "scorer = make_scorer(f_beta_score)\n",
        "# TODO: Perform grid search on the classifier using 'scorer' as the scoring method using GridSearchCV()\n",
        "grid_obj = GridSearchCV(estimator = clf, param_grid = parameters, scoring = scorer)\n",
        "# TODO: Fit the grid search object to the training data and find the optimal parameters using fit()\n",
        "grid_fit = grid_obj.fit(X_train, y_train)\n",
        "# Get the estimator\n",
        "best_clf = grid_fit.best_estimator_\n",
        "# Make predictions using the unoptimized and model\n",
        "predictions = (clf.fit(X_train, y_train)).predict(X_test)\n",
        "best_predictions = best_clf.predict(X_test)\n",
        "# Report the before-and-afterscores\n",
        "print(accuracy_score(y_test, predictions))\n",
        "print(fbeta_score(y_test, predictions, beta = 0.5))\n",
        "print(accuracy_score(y_test, best_predictions))\n",
        "print(fbeta_score(y_test, best_predictions, beta = 0.5))\n"
      ],
      "execution_count": 22,
      "outputs": [
        {
          "output_type": "stream",
          "text": [
            "0.9645390070921985\n",
            "0.9424083769633506\n",
            "1.0\n",
            "1.0\n"
          ],
          "name": "stdout"
        }
      ]
    },
    {
      "cell_type": "code",
      "metadata": {
        "colab": {
          "base_uri": "https://localhost:8080/"
        },
        "id": "mlWiKlASvkL0",
        "outputId": "21ef96d0-a2a5-4033-cc8d-6a91cc237d21"
      },
      "source": [
        "#Scaling the train data \n",
        "from sklearn.preprocessing import StandardScaler\n",
        "scaler=StandardScaler()\n",
        "scaler.fit(X_train)"
      ],
      "execution_count": 23,
      "outputs": [
        {
          "output_type": "execute_result",
          "data": {
            "text/plain": [
              "StandardScaler(copy=True, with_mean=True, with_std=True)"
            ]
          },
          "metadata": {
            "tags": []
          },
          "execution_count": 23
        }
      ]
    },
    {
      "cell_type": "code",
      "metadata": {
        "id": "94Ye0NkECSlY"
      },
      "source": [
        "#import libraries\n",
        "from pandas import set_option\n",
        "from sklearn.preprocessing import StandardScaler\n",
        "from sklearn.preprocessing import MinMaxScaler\n",
        "from sklearn.model_selection import KFold\n",
        "from sklearn.model_selection import StratifiedKFold\n",
        "from sklearn.pipeline import Pipeline\n",
        "from sklearn.linear_model import LogisticRegression\n",
        "from sklearn.tree import DecisionTreeClassifier\n",
        "from sklearn.neighbors import KNeighborsClassifier\n",
        "from sklearn.discriminant_analysis import LinearDiscriminantAnalysis\n",
        "from sklearn.naive_bayes import GaussianNB\n",
        "from sklearn.model_selection import cross_val_score\n",
        "from sklearn.metrics import accuracy_score\n",
        "from sklearn.metrics import roc_auc_score \n",
        "from sklearn.svm import SVC\n",
        "from sklearn.ensemble import AdaBoostClassifier\n",
        "from sklearn.ensemble import GradientBoostingClassifier\n",
        "from sklearn.ensemble import RandomForestClassifier\n",
        "from sklearn.ensemble import ExtraTreesClassifier\n",
        "from sklearn import linear_model, metrics, model_selection\n"
      ],
      "execution_count": 24,
      "outputs": []
    },
    {
      "cell_type": "code",
      "metadata": {
        "colab": {
          "base_uri": "https://localhost:8080/"
        },
        "id": "hbXM2Gzjwa0T",
        "outputId": "c561b8a5-cb68-4d8a-99de-465c30a7733f"
      },
      "source": [
        "#L1 regression\n",
        "from sklearn.feature_selection import SelectFromModel\n",
        "sel=SelectFromModel(LogisticRegression(C=1,penalty='l1',solver='liblinear'))\n",
        "sel.fit(scaler.transform(X_train),y_train)"
      ],
      "execution_count": 25,
      "outputs": [
        {
          "output_type": "execute_result",
          "data": {
            "text/plain": [
              "SelectFromModel(estimator=LogisticRegression(C=1, class_weight=None, dual=False,\n",
              "                                             fit_intercept=True,\n",
              "                                             intercept_scaling=1, l1_ratio=None,\n",
              "                                             max_iter=100, multi_class='auto',\n",
              "                                             n_jobs=None, penalty='l1',\n",
              "                                             random_state=None,\n",
              "                                             solver='liblinear', tol=0.0001,\n",
              "                                             verbose=0, warm_start=False),\n",
              "                max_features=None, norm_order=1, prefit=False, threshold=None)"
            ]
          },
          "metadata": {
            "tags": []
          },
          "execution_count": 25
        }
      ]
    },
    {
      "cell_type": "code",
      "metadata": {
        "colab": {
          "base_uri": "https://localhost:8080/"
        },
        "id": "HW4oT9k4xLsY",
        "outputId": "14adf271-883a-4034-be69-197690f3da33"
      },
      "source": [
        "print('Total features-->',X_train.shape[1])\n",
        "print('Selected featurs-->',sum(sel.get_support()))\n",
        "print('Removed featurs-->',np.sum(sel.estimator_.coef_==0))"
      ],
      "execution_count": 26,
      "outputs": [
        {
          "output_type": "stream",
          "text": [
            "Total features--> 104\n",
            "Selected featurs--> 32\n",
            "Removed featurs--> 72\n"
          ],
          "name": "stdout"
        }
      ]
    },
    {
      "cell_type": "code",
      "metadata": {
        "id": "4uoat3w_xPiS"
      },
      "source": [
        "def RandomForest(X_train, X_test, y_train, y_test):\n",
        "    rf = RandomForestClassifier(n_estimators=200, random_state=1, max_depth=4)\n",
        "    rf.fit(X_train, y_train)\n",
        "    print('Train set')\n",
        "    pred = rf.predict_proba(X_train)\n",
        "    print('Random Forests roc-auc: {}'.format(roc_auc_score(y_train, pred[:,1])))\n",
        "    print('Test set')\n",
        "    pred = rf.predict_proba(X_test)\n",
        "    print('Random Forests roc-auc: {}'.format(roc_auc_score(y_test, pred[:,1])))"
      ],
      "execution_count": 27,
      "outputs": []
    },
    {
      "cell_type": "code",
      "metadata": {
        "colab": {
          "base_uri": "https://localhost:8080/"
        },
        "id": "xSNptL4wxUFE",
        "outputId": "e72affd9-b609-4f7e-e72c-6c439c9cde21"
      },
      "source": [
        "X_train_lasso=sel.transform(X_train)\n",
        "X_test_lasso=sel.transform(X_test)\n",
        "RandomForest(X_train_lasso,X_test_lasso,y_train,y_test)"
      ],
      "execution_count": 28,
      "outputs": [
        {
          "output_type": "stream",
          "text": [
            "Train set\n",
            "Random Forests roc-auc: 1.0\n",
            "Test set\n",
            "Random Forests roc-auc: 1.0\n"
          ],
          "name": "stdout"
        }
      ]
    },
    {
      "cell_type": "code",
      "metadata": {
        "colab": {
          "base_uri": "https://localhost:8080/"
        },
        "id": "kA4-9JhNxc_C",
        "outputId": "41c7b4ac-0589-48ac-c592-0c9dc4b99f07"
      },
      "source": [
        "#L2 Regression\n",
        "sfm=SelectFromModel(LogisticRegression(C=1,penalty='l2'))\n",
        "sfm.fit(scaler.transform(X_train),y_train)"
      ],
      "execution_count": 29,
      "outputs": [
        {
          "output_type": "execute_result",
          "data": {
            "text/plain": [
              "SelectFromModel(estimator=LogisticRegression(C=1, class_weight=None, dual=False,\n",
              "                                             fit_intercept=True,\n",
              "                                             intercept_scaling=1, l1_ratio=None,\n",
              "                                             max_iter=100, multi_class='auto',\n",
              "                                             n_jobs=None, penalty='l2',\n",
              "                                             random_state=None, solver='lbfgs',\n",
              "                                             tol=0.0001, verbose=0,\n",
              "                                             warm_start=False),\n",
              "                max_features=None, norm_order=1, prefit=False, threshold=None)"
            ]
          },
          "metadata": {
            "tags": []
          },
          "execution_count": 29
        }
      ]
    },
    {
      "cell_type": "code",
      "metadata": {
        "colab": {
          "base_uri": "https://localhost:8080/"
        },
        "id": "uA1izpPAxid9",
        "outputId": "b0e97702-d4c8-4ac0-b7a5-ffb77ca7e44e"
      },
      "source": [
        "print('Total features-->',X_train.shape[1])\n",
        "print('Selected featurs-->',sum(sfm.get_support()))\n",
        "print('Removed featurs-->',np.sum(sfm.estimator_.coef_==0))"
      ],
      "execution_count": 30,
      "outputs": [
        {
          "output_type": "stream",
          "text": [
            "Total features--> 104\n",
            "Selected featurs--> 20\n",
            "Removed featurs--> 8\n"
          ],
          "name": "stdout"
        }
      ]
    },
    {
      "cell_type": "code",
      "metadata": {
        "colab": {
          "base_uri": "https://localhost:8080/"
        },
        "id": "XGngr4ITxoDI",
        "outputId": "ab716c41-5df4-4b51-9baf-9a1990db157d"
      },
      "source": [
        "X_train_l2=sel.transform(X_train)\n",
        "X_test_l2=sel.transform(X_test)\n",
        "RandomForest(X_train_l2,X_test_l2,y_train,y_test)"
      ],
      "execution_count": 31,
      "outputs": [
        {
          "output_type": "stream",
          "text": [
            "Train set\n",
            "Random Forests roc-auc: 1.0\n",
            "Test set\n",
            "Random Forests roc-auc: 1.0\n"
          ],
          "name": "stdout"
        }
      ]
    },
    {
      "cell_type": "code",
      "metadata": {
        "id": "-LBd5jLmyyhO"
      },
      "source": [
        "#Different Models \n",
        "def GetBasedModel():\n",
        "    basedModels = []\n",
        "    basedModels.append(('LR'   , LogisticRegression()))\n",
        "    basedModels.append(('LDA'  , LinearDiscriminantAnalysis()))\n",
        "    basedModels.append(('KNN'  , KNeighborsClassifier()))\n",
        "    basedModels.append(('CART' , DecisionTreeClassifier()))\n",
        "    basedModels.append(('NB'   , GaussianNB()))\n",
        "    basedModels.append(('SVM'  , SVC(probability=True)))\n",
        "    basedModels.append(('AB'   , AdaBoostClassifier()))\n",
        "    basedModels.append(('GBM'  , GradientBoostingClassifier()))\n",
        "    basedModels.append(('RF'   , RandomForestClassifier()))\n",
        "    basedModels.append(('ET'   , ExtraTreesClassifier()))\n",
        "    return basedModels\n"
      ],
      "execution_count": 32,
      "outputs": []
    },
    {
      "cell_type": "code",
      "metadata": {
        "id": "qSspCUG7yRIL"
      },
      "source": [
        "#K Fold\n",
        "def BasedLine2(X_train, y_train,models):\n",
        "    # Test options and evaluation metric\n",
        "    num_folds = 10\n",
        "    scoring = 'accuracy'\n",
        "    results = []\n",
        "    names = []\n",
        "    for name, model in models:\n",
        "        kfold = StratifiedKFold(n_splits=num_folds, random_state=SEED)\n",
        "        cv_results = cross_val_score(model, X_train, y_train, cv=kfold, scoring=scoring)\n",
        "        results.append(cv_results)\n",
        "        names.append(name)\n",
        "        msg = \"%s: %f (%f)\" % (name, cv_results.mean(), cv_results.std())\n",
        "        print(msg)    \n",
        "    return names, results"
      ],
      "execution_count": 33,
      "outputs": []
    },
    {
      "cell_type": "code",
      "metadata": {
        "colab": {
          "base_uri": "https://localhost:8080/"
        },
        "id": "1DN2k4bDy_5j",
        "outputId": "e819e01d-84dc-4151-d621-b287247a0a0b"
      },
      "source": [
        "SEED =1234\n",
        "np.random.seed(SEED)\n",
        "models = GetBasedModel()\n",
        "names,results = BasedLine2(X_train, y_train,models)\n"
      ],
      "execution_count": 34,
      "outputs": [
        {
          "output_type": "stream",
          "text": [
            "LR: 0.987531 (0.013935)\n",
            "LDA: 0.932456 (0.022409)\n",
            "KNN: 0.948528 (0.024349)\n",
            "CART: 1.000000 (0.000000)\n",
            "NB: 0.310714 (0.030647)\n",
            "SVM: 0.966228 (0.016865)\n",
            "AB: 1.000000 (0.000000)\n",
            "GBM: 1.000000 (0.000000)\n",
            "RF: 1.000000 (0.000000)\n",
            "ET: 0.984085 (0.014589)\n"
          ],
          "name": "stdout"
        }
      ]
    },
    {
      "cell_type": "code",
      "metadata": {
        "id": "axB2nUQwzYL5"
      },
      "source": [
        "def ScoreDataFrame(names,results):\n",
        "    def floatingDecimals(f_val, dec=3):\n",
        "        prc = \"{:.\"+str(dec)+\"f}\" \n",
        "        return float(prc.format(f_val))\n",
        "    scores = []\n",
        "    for r in results:\n",
        "        scores.append(floatingDecimals(r.mean(),4))\n",
        "    scoreDataFrame = pd.DataFrame({'Model':names, 'Score': scores})\n",
        "    return scoreDataFrame\n"
      ],
      "execution_count": 35,
      "outputs": []
    },
    {
      "cell_type": "code",
      "metadata": {
        "colab": {
          "base_uri": "https://localhost:8080/",
          "height": 363
        },
        "id": "ojJ_qaK_zlT1",
        "outputId": "73c2d739-c819-45f5-8a01-00f1549ae79c"
      },
      "source": [
        "basedLineScore = ScoreDataFrame(names,results)\n",
        "basedLineScore"
      ],
      "execution_count": 36,
      "outputs": [
        {
          "output_type": "execute_result",
          "data": {
            "text/html": [
              "<div>\n",
              "<style scoped>\n",
              "    .dataframe tbody tr th:only-of-type {\n",
              "        vertical-align: middle;\n",
              "    }\n",
              "\n",
              "    .dataframe tbody tr th {\n",
              "        vertical-align: top;\n",
              "    }\n",
              "\n",
              "    .dataframe thead th {\n",
              "        text-align: right;\n",
              "    }\n",
              "</style>\n",
              "<table border=\"1\" class=\"dataframe\">\n",
              "  <thead>\n",
              "    <tr style=\"text-align: right;\">\n",
              "      <th></th>\n",
              "      <th>Model</th>\n",
              "      <th>Score</th>\n",
              "    </tr>\n",
              "  </thead>\n",
              "  <tbody>\n",
              "    <tr>\n",
              "      <th>0</th>\n",
              "      <td>LR</td>\n",
              "      <td>0.9875</td>\n",
              "    </tr>\n",
              "    <tr>\n",
              "      <th>1</th>\n",
              "      <td>LDA</td>\n",
              "      <td>0.9325</td>\n",
              "    </tr>\n",
              "    <tr>\n",
              "      <th>2</th>\n",
              "      <td>KNN</td>\n",
              "      <td>0.9485</td>\n",
              "    </tr>\n",
              "    <tr>\n",
              "      <th>3</th>\n",
              "      <td>CART</td>\n",
              "      <td>1.0000</td>\n",
              "    </tr>\n",
              "    <tr>\n",
              "      <th>4</th>\n",
              "      <td>NB</td>\n",
              "      <td>0.3107</td>\n",
              "    </tr>\n",
              "    <tr>\n",
              "      <th>5</th>\n",
              "      <td>SVM</td>\n",
              "      <td>0.9662</td>\n",
              "    </tr>\n",
              "    <tr>\n",
              "      <th>6</th>\n",
              "      <td>AB</td>\n",
              "      <td>1.0000</td>\n",
              "    </tr>\n",
              "    <tr>\n",
              "      <th>7</th>\n",
              "      <td>GBM</td>\n",
              "      <td>1.0000</td>\n",
              "    </tr>\n",
              "    <tr>\n",
              "      <th>8</th>\n",
              "      <td>RF</td>\n",
              "      <td>1.0000</td>\n",
              "    </tr>\n",
              "    <tr>\n",
              "      <th>9</th>\n",
              "      <td>ET</td>\n",
              "      <td>0.9841</td>\n",
              "    </tr>\n",
              "  </tbody>\n",
              "</table>\n",
              "</div>"
            ],
            "text/plain": [
              "  Model   Score\n",
              "0    LR  0.9875\n",
              "1   LDA  0.9325\n",
              "2   KNN  0.9485\n",
              "3  CART  1.0000\n",
              "4    NB  0.3107\n",
              "5   SVM  0.9662\n",
              "6    AB  1.0000\n",
              "7   GBM  1.0000\n",
              "8    RF  1.0000\n",
              "9    ET  0.9841"
            ]
          },
          "metadata": {
            "tags": []
          },
          "execution_count": 36
        }
      ]
    },
    {
      "cell_type": "code",
      "metadata": {
        "id": "v9hi6WntzoDD"
      },
      "source": [
        "# Using Pipeline\n",
        "def GetScaledModel(nameOfScaler):\n",
        "    if nameOfScaler == 'standard':\n",
        "        scaler = StandardScaler()\n",
        "    elif nameOfScaler =='minmax':\n",
        "        scaler = MinMaxScaler()\n",
        "    pipelines = []\n",
        "    pipelines.append((nameOfScaler+'LR'  , Pipeline([('Scaler', scaler),('LR'  , LogisticRegression())])))\n",
        "    pipelines.append((nameOfScaler+'LDA' , Pipeline([('Scaler', scaler),('LDA' , LinearDiscriminantAnalysis())])))\n",
        "    pipelines.append((nameOfScaler+'KNN' , Pipeline([('Scaler', scaler),('KNN' , KNeighborsClassifier())])))\n",
        "    pipelines.append((nameOfScaler+'CART', Pipeline([('Scaler', scaler),('CART', DecisionTreeClassifier())])))\n",
        "    pipelines.append((nameOfScaler+'NB'  , Pipeline([('Scaler', scaler),('NB'  , GaussianNB())])))\n",
        "    pipelines.append((nameOfScaler+'SVM' , Pipeline([('Scaler', scaler),('SVM' , SVC())])))\n",
        "    pipelines.append((nameOfScaler+'AB'  , Pipeline([('Scaler', scaler),('AB'  , AdaBoostClassifier())])  ))\n",
        "    pipelines.append((nameOfScaler+'GBM' , Pipeline([('Scaler', scaler),('GMB' , GradientBoostingClassifier())])  ))\n",
        "    pipelines.append((nameOfScaler+'RF'  , Pipeline([('Scaler', scaler),('RF'  , RandomForestClassifier())])  ))\n",
        "    pipelines.append((nameOfScaler+'ET'  , Pipeline([('Scaler', scaler),('ET'  , ExtraTreesClassifier())])  ))\n",
        "    return pipelines "
      ],
      "execution_count": 37,
      "outputs": []
    },
    {
      "cell_type": "code",
      "metadata": {
        "colab": {
          "base_uri": "https://localhost:8080/",
          "height": 536
        },
        "id": "bK04u_dvzw3V",
        "outputId": "6fb78c83-0d26-418d-ae03-ef7f0147b41a"
      },
      "source": [
        "models = GetScaledModel('standard')\n",
        "names,results = BasedLine2(X_train, y_train,models)\n",
        "scaledScoreStandard = ScoreDataFrame(names,results)\n",
        "compareModels = pd.concat([basedLineScore,\n",
        "                           scaledScoreStandard], axis=1)\n",
        "compareModels"
      ],
      "execution_count": 38,
      "outputs": [
        {
          "output_type": "stream",
          "text": [
            "standardLR: 0.973371 (0.024209)\n",
            "standardLDA: 0.932456 (0.022409)\n",
            "standardKNN: 0.889850 (0.020939)\n",
            "standardCART: 1.000000 (0.000000)\n",
            "standardNB: 0.310714 (0.030647)\n",
            "standardSVM: 0.914693 (0.026283)\n",
            "standardAB: 1.000000 (0.000000)\n",
            "standardGBM: 1.000000 (0.000000)\n",
            "standardRF: 1.000000 (0.000000)\n",
            "standardET: 0.982268 (0.013672)\n"
          ],
          "name": "stdout"
        },
        {
          "output_type": "execute_result",
          "data": {
            "text/html": [
              "<div>\n",
              "<style scoped>\n",
              "    .dataframe tbody tr th:only-of-type {\n",
              "        vertical-align: middle;\n",
              "    }\n",
              "\n",
              "    .dataframe tbody tr th {\n",
              "        vertical-align: top;\n",
              "    }\n",
              "\n",
              "    .dataframe thead th {\n",
              "        text-align: right;\n",
              "    }\n",
              "</style>\n",
              "<table border=\"1\" class=\"dataframe\">\n",
              "  <thead>\n",
              "    <tr style=\"text-align: right;\">\n",
              "      <th></th>\n",
              "      <th>Model</th>\n",
              "      <th>Score</th>\n",
              "      <th>Model</th>\n",
              "      <th>Score</th>\n",
              "    </tr>\n",
              "  </thead>\n",
              "  <tbody>\n",
              "    <tr>\n",
              "      <th>0</th>\n",
              "      <td>LR</td>\n",
              "      <td>0.9875</td>\n",
              "      <td>standardLR</td>\n",
              "      <td>0.9734</td>\n",
              "    </tr>\n",
              "    <tr>\n",
              "      <th>1</th>\n",
              "      <td>LDA</td>\n",
              "      <td>0.9325</td>\n",
              "      <td>standardLDA</td>\n",
              "      <td>0.9325</td>\n",
              "    </tr>\n",
              "    <tr>\n",
              "      <th>2</th>\n",
              "      <td>KNN</td>\n",
              "      <td>0.9485</td>\n",
              "      <td>standardKNN</td>\n",
              "      <td>0.8898</td>\n",
              "    </tr>\n",
              "    <tr>\n",
              "      <th>3</th>\n",
              "      <td>CART</td>\n",
              "      <td>1.0000</td>\n",
              "      <td>standardCART</td>\n",
              "      <td>1.0000</td>\n",
              "    </tr>\n",
              "    <tr>\n",
              "      <th>4</th>\n",
              "      <td>NB</td>\n",
              "      <td>0.3107</td>\n",
              "      <td>standardNB</td>\n",
              "      <td>0.3107</td>\n",
              "    </tr>\n",
              "    <tr>\n",
              "      <th>5</th>\n",
              "      <td>SVM</td>\n",
              "      <td>0.9662</td>\n",
              "      <td>standardSVM</td>\n",
              "      <td>0.9147</td>\n",
              "    </tr>\n",
              "    <tr>\n",
              "      <th>6</th>\n",
              "      <td>AB</td>\n",
              "      <td>1.0000</td>\n",
              "      <td>standardAB</td>\n",
              "      <td>1.0000</td>\n",
              "    </tr>\n",
              "    <tr>\n",
              "      <th>7</th>\n",
              "      <td>GBM</td>\n",
              "      <td>1.0000</td>\n",
              "      <td>standardGBM</td>\n",
              "      <td>1.0000</td>\n",
              "    </tr>\n",
              "    <tr>\n",
              "      <th>8</th>\n",
              "      <td>RF</td>\n",
              "      <td>1.0000</td>\n",
              "      <td>standardRF</td>\n",
              "      <td>1.0000</td>\n",
              "    </tr>\n",
              "    <tr>\n",
              "      <th>9</th>\n",
              "      <td>ET</td>\n",
              "      <td>0.9841</td>\n",
              "      <td>standardET</td>\n",
              "      <td>0.9823</td>\n",
              "    </tr>\n",
              "  </tbody>\n",
              "</table>\n",
              "</div>"
            ],
            "text/plain": [
              "  Model   Score         Model   Score\n",
              "0    LR  0.9875    standardLR  0.9734\n",
              "1   LDA  0.9325   standardLDA  0.9325\n",
              "2   KNN  0.9485   standardKNN  0.8898\n",
              "3  CART  1.0000  standardCART  1.0000\n",
              "4    NB  0.3107    standardNB  0.3107\n",
              "5   SVM  0.9662   standardSVM  0.9147\n",
              "6    AB  1.0000    standardAB  1.0000\n",
              "7   GBM  1.0000   standardGBM  1.0000\n",
              "8    RF  1.0000    standardRF  1.0000\n",
              "9    ET  0.9841    standardET  0.9823"
            ]
          },
          "metadata": {
            "tags": []
          },
          "execution_count": 38
        }
      ]
    },
    {
      "cell_type": "code",
      "metadata": {
        "colab": {
          "base_uri": "https://localhost:8080/",
          "height": 536
        },
        "id": "Ckle4EQLzE3T",
        "outputId": "9fc28fd4-5a8f-44b9-bedd-48cc340b9cc3"
      },
      "source": [
        "models = GetScaledModel('minmax')\n",
        "names,results = BasedLine2(X_train, y_train,models)\n",
        "\n",
        "scaledScoreMinMax = ScoreDataFrame(names,results)\n",
        "compareModels = pd.concat([basedLineScore,\n",
        "                           scaledScoreStandard,\n",
        "                          scaledScoreMinMax], axis=1)\n",
        "compareModels"
      ],
      "execution_count": 39,
      "outputs": [
        {
          "output_type": "stream",
          "text": [
            "minmaxLR: 0.987531 (0.013935)\n",
            "minmaxLDA: 0.932456 (0.022409)\n",
            "minmaxKNN: 0.948528 (0.024349)\n",
            "minmaxCART: 1.000000 (0.000000)\n",
            "minmaxNB: 0.310714 (0.030647)\n",
            "minmaxSVM: 0.966228 (0.016865)\n",
            "minmaxAB: 1.000000 (0.000000)\n",
            "minmaxGBM: 1.000000 (0.000000)\n",
            "minmaxRF: 1.000000 (0.000000)\n",
            "minmaxET: 0.987625 (0.011278)\n"
          ],
          "name": "stdout"
        },
        {
          "output_type": "execute_result",
          "data": {
            "text/html": [
              "<div>\n",
              "<style scoped>\n",
              "    .dataframe tbody tr th:only-of-type {\n",
              "        vertical-align: middle;\n",
              "    }\n",
              "\n",
              "    .dataframe tbody tr th {\n",
              "        vertical-align: top;\n",
              "    }\n",
              "\n",
              "    .dataframe thead th {\n",
              "        text-align: right;\n",
              "    }\n",
              "</style>\n",
              "<table border=\"1\" class=\"dataframe\">\n",
              "  <thead>\n",
              "    <tr style=\"text-align: right;\">\n",
              "      <th></th>\n",
              "      <th>Model</th>\n",
              "      <th>Score</th>\n",
              "      <th>Model</th>\n",
              "      <th>Score</th>\n",
              "      <th>Model</th>\n",
              "      <th>Score</th>\n",
              "    </tr>\n",
              "  </thead>\n",
              "  <tbody>\n",
              "    <tr>\n",
              "      <th>0</th>\n",
              "      <td>LR</td>\n",
              "      <td>0.9875</td>\n",
              "      <td>standardLR</td>\n",
              "      <td>0.9734</td>\n",
              "      <td>minmaxLR</td>\n",
              "      <td>0.9875</td>\n",
              "    </tr>\n",
              "    <tr>\n",
              "      <th>1</th>\n",
              "      <td>LDA</td>\n",
              "      <td>0.9325</td>\n",
              "      <td>standardLDA</td>\n",
              "      <td>0.9325</td>\n",
              "      <td>minmaxLDA</td>\n",
              "      <td>0.9325</td>\n",
              "    </tr>\n",
              "    <tr>\n",
              "      <th>2</th>\n",
              "      <td>KNN</td>\n",
              "      <td>0.9485</td>\n",
              "      <td>standardKNN</td>\n",
              "      <td>0.8898</td>\n",
              "      <td>minmaxKNN</td>\n",
              "      <td>0.9485</td>\n",
              "    </tr>\n",
              "    <tr>\n",
              "      <th>3</th>\n",
              "      <td>CART</td>\n",
              "      <td>1.0000</td>\n",
              "      <td>standardCART</td>\n",
              "      <td>1.0000</td>\n",
              "      <td>minmaxCART</td>\n",
              "      <td>1.0000</td>\n",
              "    </tr>\n",
              "    <tr>\n",
              "      <th>4</th>\n",
              "      <td>NB</td>\n",
              "      <td>0.3107</td>\n",
              "      <td>standardNB</td>\n",
              "      <td>0.3107</td>\n",
              "      <td>minmaxNB</td>\n",
              "      <td>0.3107</td>\n",
              "    </tr>\n",
              "    <tr>\n",
              "      <th>5</th>\n",
              "      <td>SVM</td>\n",
              "      <td>0.9662</td>\n",
              "      <td>standardSVM</td>\n",
              "      <td>0.9147</td>\n",
              "      <td>minmaxSVM</td>\n",
              "      <td>0.9662</td>\n",
              "    </tr>\n",
              "    <tr>\n",
              "      <th>6</th>\n",
              "      <td>AB</td>\n",
              "      <td>1.0000</td>\n",
              "      <td>standardAB</td>\n",
              "      <td>1.0000</td>\n",
              "      <td>minmaxAB</td>\n",
              "      <td>1.0000</td>\n",
              "    </tr>\n",
              "    <tr>\n",
              "      <th>7</th>\n",
              "      <td>GBM</td>\n",
              "      <td>1.0000</td>\n",
              "      <td>standardGBM</td>\n",
              "      <td>1.0000</td>\n",
              "      <td>minmaxGBM</td>\n",
              "      <td>1.0000</td>\n",
              "    </tr>\n",
              "    <tr>\n",
              "      <th>8</th>\n",
              "      <td>RF</td>\n",
              "      <td>1.0000</td>\n",
              "      <td>standardRF</td>\n",
              "      <td>1.0000</td>\n",
              "      <td>minmaxRF</td>\n",
              "      <td>1.0000</td>\n",
              "    </tr>\n",
              "    <tr>\n",
              "      <th>9</th>\n",
              "      <td>ET</td>\n",
              "      <td>0.9841</td>\n",
              "      <td>standardET</td>\n",
              "      <td>0.9823</td>\n",
              "      <td>minmaxET</td>\n",
              "      <td>0.9876</td>\n",
              "    </tr>\n",
              "  </tbody>\n",
              "</table>\n",
              "</div>"
            ],
            "text/plain": [
              "  Model   Score         Model   Score       Model   Score\n",
              "0    LR  0.9875    standardLR  0.9734    minmaxLR  0.9875\n",
              "1   LDA  0.9325   standardLDA  0.9325   minmaxLDA  0.9325\n",
              "2   KNN  0.9485   standardKNN  0.8898   minmaxKNN  0.9485\n",
              "3  CART  1.0000  standardCART  1.0000  minmaxCART  1.0000\n",
              "4    NB  0.3107    standardNB  0.3107    minmaxNB  0.3107\n",
              "5   SVM  0.9662   standardSVM  0.9147   minmaxSVM  0.9662\n",
              "6    AB  1.0000    standardAB  1.0000    minmaxAB  1.0000\n",
              "7   GBM  1.0000   standardGBM  1.0000   minmaxGBM  1.0000\n",
              "8    RF  1.0000    standardRF  1.0000    minmaxRF  1.0000\n",
              "9    ET  0.9841    standardET  0.9823    minmaxET  0.9876"
            ]
          },
          "metadata": {
            "tags": []
          },
          "execution_count": 39
        }
      ]
    },
    {
      "cell_type": "code",
      "metadata": {
        "colab": {
          "base_uri": "https://localhost:8080/"
        },
        "id": "qsEDfy3L2v66",
        "outputId": "dd1252f0-a2b8-41f6-b8c0-4abeaad8d995"
      },
      "source": [
        "#USING GINI\n",
        "clf_gini = DecisionTreeClassifier(criterion='gini', max_depth=3, random_state=0)\n",
        "# fit the model\n",
        "clf_gini.fit(X_train, y_train)"
      ],
      "execution_count": 40,
      "outputs": [
        {
          "output_type": "execute_result",
          "data": {
            "text/plain": [
              "DecisionTreeClassifier(ccp_alpha=0.0, class_weight=None, criterion='gini',\n",
              "                       max_depth=3, max_features=None, max_leaf_nodes=None,\n",
              "                       min_impurity_decrease=0.0, min_impurity_split=None,\n",
              "                       min_samples_leaf=1, min_samples_split=2,\n",
              "                       min_weight_fraction_leaf=0.0, presort='deprecated',\n",
              "                       random_state=0, splitter='best')"
            ]
          },
          "metadata": {
            "tags": []
          },
          "execution_count": 40
        }
      ]
    },
    {
      "cell_type": "code",
      "metadata": {
        "id": "vKwRwFRv2xOS"
      },
      "source": [
        "y_pred_gini = clf_gini.predict(X_test)"
      ],
      "execution_count": 41,
      "outputs": []
    },
    {
      "cell_type": "code",
      "metadata": {
        "colab": {
          "base_uri": "https://localhost:8080/"
        },
        "id": "Jjn-UkJs29O-",
        "outputId": "68fb5a2d-6d8a-44b3-8620-88920b43c07e"
      },
      "source": [
        "from sklearn.metrics import accuracy_score\n",
        "print('Model accuracy score with criterion gini index: {0:0.4f}'. format(accuracy_score(y_test, y_pred_gini)))"
      ],
      "execution_count": 42,
      "outputs": [
        {
          "output_type": "stream",
          "text": [
            "Model accuracy score with criterion gini index: 1.0000\n"
          ],
          "name": "stdout"
        }
      ]
    },
    {
      "cell_type": "code",
      "metadata": {
        "colab": {
          "base_uri": "https://localhost:8080/"
        },
        "id": "m3u-cxuL3DH_",
        "outputId": "1dea41f7-d9c8-43f0-afb3-3b681b8d443d"
      },
      "source": [
        "y_pred_train_gini = clf_gini.predict(X_train)\n",
        "y_pred_train_gini\n",
        "print('Training-set accuracy score: {0:0.4f}'. format(accuracy_score(y_train, y_pred_train_gini)))"
      ],
      "execution_count": 43,
      "outputs": [
        {
          "output_type": "stream",
          "text": [
            "Training-set accuracy score: 1.0000\n"
          ],
          "name": "stdout"
        }
      ]
    },
    {
      "cell_type": "code",
      "metadata": {
        "colab": {
          "base_uri": "https://localhost:8080/"
        },
        "id": "9J2Q5ecn3mer",
        "outputId": "9661261b-cfc8-462b-8970-515f236b010c"
      },
      "source": [
        "print('Training set score: {:.4f}'.format(clf_gini.score(X_train, y_train)))\n",
        "print('Test set score: {:.4f}'.format(clf_gini.score(X_test, y_test)))"
      ],
      "execution_count": 44,
      "outputs": [
        {
          "output_type": "stream",
          "text": [
            "Training set score: 1.0000\n",
            "Test set score: 1.0000\n"
          ],
          "name": "stdout"
        }
      ]
    },
    {
      "cell_type": "code",
      "metadata": {
        "colab": {
          "base_uri": "https://localhost:8080/"
        },
        "id": "QI8wnBxK3LmV",
        "outputId": "bc9f7a1e-07f2-4685-807c-4311e675561b"
      },
      "source": [
        "#Using ENTROPY\n",
        "clf_en = DecisionTreeClassifier(criterion='entropy', max_depth=3, random_state=0)\n",
        "# fit the model\n",
        "clf_en.fit(X_train, y_train)"
      ],
      "execution_count": 45,
      "outputs": [
        {
          "output_type": "execute_result",
          "data": {
            "text/plain": [
              "DecisionTreeClassifier(ccp_alpha=0.0, class_weight=None, criterion='entropy',\n",
              "                       max_depth=3, max_features=None, max_leaf_nodes=None,\n",
              "                       min_impurity_decrease=0.0, min_impurity_split=None,\n",
              "                       min_samples_leaf=1, min_samples_split=2,\n",
              "                       min_weight_fraction_leaf=0.0, presort='deprecated',\n",
              "                       random_state=0, splitter='best')"
            ]
          },
          "metadata": {
            "tags": []
          },
          "execution_count": 45
        }
      ]
    },
    {
      "cell_type": "code",
      "metadata": {
        "id": "2Hwqtsy63T6q"
      },
      "source": [
        "y_pred_en = clf_en.predict(X_test)"
      ],
      "execution_count": 46,
      "outputs": []
    },
    {
      "cell_type": "code",
      "metadata": {
        "colab": {
          "base_uri": "https://localhost:8080/"
        },
        "id": "yW-O3sgh3VBP",
        "outputId": "965e7475-1902-47a5-e7b4-3543a8f460eb"
      },
      "source": [
        "from sklearn.metrics import accuracy_score\n",
        "print('Model accuracy score with criterion entropy: {0:0.4f}'. format(accuracy_score(y_test, y_pred_en)))"
      ],
      "execution_count": 47,
      "outputs": [
        {
          "output_type": "stream",
          "text": [
            "Model accuracy score with criterion entropy: 1.0000\n"
          ],
          "name": "stdout"
        }
      ]
    },
    {
      "cell_type": "code",
      "metadata": {
        "colab": {
          "base_uri": "https://localhost:8080/"
        },
        "id": "hfGby5lK3XtW",
        "outputId": "15b275a5-432e-4272-926d-2d8289e7f176"
      },
      "source": [
        "y_pred_train_en = clf_en.predict(X_train)\n",
        "y_pred_train_en\n",
        "print('Training-set accuracy score: {0:0.4f}'. format(accuracy_score(y_train, y_pred_train_en)))"
      ],
      "execution_count": 48,
      "outputs": [
        {
          "output_type": "stream",
          "text": [
            "Training-set accuracy score: 1.0000\n"
          ],
          "name": "stdout"
        }
      ]
    },
    {
      "cell_type": "code",
      "metadata": {
        "colab": {
          "base_uri": "https://localhost:8080/"
        },
        "id": "12IOiKJo3iVk",
        "outputId": "e9e50d16-83b6-4bc4-97d1-8cf449e249be"
      },
      "source": [
        "print('Training set score: {:.4f}'.format(clf_en.score(X_train, y_train)))\n",
        "print('Test set score: {:.4f}'.format(clf_en.score(X_test, y_test)))"
      ],
      "execution_count": 49,
      "outputs": [
        {
          "output_type": "stream",
          "text": [
            "Training set score: 1.0000\n",
            "Test set score: 1.0000\n"
          ],
          "name": "stdout"
        }
      ]
    },
    {
      "cell_type": "code",
      "metadata": {
        "colab": {
          "base_uri": "https://localhost:8080/"
        },
        "id": "JprZ4hJo3xj_",
        "outputId": "869aa613-3e33-4041-f6ea-e8133ee99d8a"
      },
      "source": [
        "from sklearn.metrics import confusion_matrix\n",
        "cm = confusion_matrix(y_test, y_pred_en)\n",
        "print('Confusion matrix\\n\\n', cm)"
      ],
      "execution_count": 50,
      "outputs": [
        {
          "output_type": "stream",
          "text": [
            "Confusion matrix\n",
            "\n",
            " [[102   0]\n",
            " [  0  39]]\n"
          ],
          "name": "stdout"
        }
      ]
    },
    {
      "cell_type": "code",
      "metadata": {
        "colab": {
          "base_uri": "https://localhost:8080/"
        },
        "id": "amAs9BEF32C_",
        "outputId": "bd276229-709a-4547-9c67-084913cf2c27"
      },
      "source": [
        "from sklearn.metrics import classification_report\n",
        "print(classification_report(y_test, y_pred_en))"
      ],
      "execution_count": 51,
      "outputs": [
        {
          "output_type": "stream",
          "text": [
            "              precision    recall  f1-score   support\n",
            "\n",
            "           0       1.00      1.00      1.00       102\n",
            "           1       1.00      1.00      1.00        39\n",
            "\n",
            "    accuracy                           1.00       141\n",
            "   macro avg       1.00      1.00      1.00       141\n",
            "weighted avg       1.00      1.00      1.00       141\n",
            "\n"
          ],
          "name": "stdout"
        }
      ]
    },
    {
      "cell_type": "code",
      "metadata": {
        "colab": {
          "base_uri": "https://localhost:8080/",
          "height": 475
        },
        "id": "mwQW_MNP32yp",
        "outputId": "0dcfcacb-0f13-4356-9393-a864e08906ed"
      },
      "source": [
        "from sklearn.metrics import confusion_matrix\n",
        "import pandas as pd\n",
        "import seaborn as sn\n",
        "import matplotlib.pyplot as plt\n",
        "%matplotlib inline\n",
        "import numpy as np\n",
        "data = confusion_matrix(y_test, y_pred_en)\n",
        "df_cm = pd.DataFrame(data, columns=np.unique(y_test), index = np.unique(y_test))\n",
        "df_cm.index.name = 'Actual'\n",
        "df_cm.columns.name = 'Predicted'\n",
        "plt.figure(figsize = (10,7))\n",
        "sn.set(font_scale=1.4)#for label size\n",
        "sn.heatmap(df_cm, cmap=\"Blues\", annot=True,annot_kws={\"size\": 16})"
      ],
      "execution_count": 52,
      "outputs": [
        {
          "output_type": "execute_result",
          "data": {
            "text/plain": [
              "<matplotlib.axes._subplots.AxesSubplot at 0x7f48749c7750>"
            ]
          },
          "metadata": {
            "tags": []
          },
          "execution_count": 52
        },
        {
          "output_type": "display_data",
          "data": {
            "image/png": "[encoded data removed]",
            "text/plain": [
              "<Figure size 720x504 with 2 Axes>"
            ]
          },
          "metadata": {
            "tags": [],
            "needs_background": "light"
          }
        }
      ]
    },
    {
      "cell_type": "code",
      "metadata": {
        "id": "JzdWOIuxSUkL"
      },
      "source": [
        "#Feature selection\n",
        "from sklearn.feature_selection import SelectKBest\n",
        "from sklearn.feature_selection import chi2\n",
        "# find best scored 5 features\n",
        "select_feature = SelectKBest(chi2, k=5).fit(X_train, y_train)"
      ],
      "execution_count": 53,
      "outputs": []
    },
    {
      "cell_type": "code",
      "metadata": {
        "colab": {
          "base_uri": "https://localhost:8080/"
        },
        "id": "lPPiUyPYSXko",
        "outputId": "92bebfc3-bbf7-430e-9a8b-06743c79ab49"
      },
      "source": [
        "print('Score list:', select_feature.scores_)\n",
        "print('Feature list:', X_train.columns)"
      ],
      "execution_count": 54,
      "outputs": [
        {
          "output_type": "stream",
          "text": [
            "Score list: [8.49921392e-01 4.80354721e+01 1.40314629e+01 3.10599546e+01\n",
            " 5.81459058e+01 6.02054569e+01 8.47982037e+01 1.28422083e+02\n",
            " 3.70776047e+01 1.14111958e+01 1.49718560e+02 3.85242657e+01\n",
            " 1.86424409e+00 1.68159855e+00 1.53132580e+01 5.44763980e+00\n",
            " 1.07362920e+01 2.74520557e+00 8.99937225e-02 6.01556189e+00\n",
            " 8.45526169e-01 1.41722195e+00 1.45278450e+00 4.44402085e+01\n",
            "            nan 2.86027652e+00 1.91991164e+01 3.63196126e-01\n",
            " 3.63196126e-01 3.63196126e-01 3.20214718e+00 5.52461663e-03\n",
            "            nan 5.50666667e+00 2.90556901e+00 1.93196172e+01\n",
            " 3.85990315e+00 2.36620841e+01 1.12894270e-01 1.73390417e+00\n",
            "            nan 3.63196126e-01 5.58264730e-01 3.63196126e-01\n",
            " 3.63196126e-01 1.01124081e+00 5.58264730e-01            nan\n",
            " 3.63196126e-01 6.87059457e-02 6.87059457e-02 3.63196126e-01\n",
            " 2.84655690e+00            nan 9.61820985e+00 3.63196126e-01\n",
            " 2.75333333e+00 2.75333333e+00 3.63196126e-01 1.08958838e+00\n",
            " 7.26392252e-01 2.75333333e+00 2.79132365e+00 2.45884315e+00\n",
            " 7.26392252e-01 1.32752230e+01 3.63196126e-01 2.17917676e+00\n",
            " 3.63196126e-01 4.56419693e-01 7.28330589e+00 3.63196126e-01\n",
            " 8.88725033e+00 1.08958838e+00 3.63196126e-01 7.28330589e+00\n",
            " 2.23305892e+00 2.75333333e+00 1.45924850e+00 3.63196126e-01\n",
            " 3.63196126e-01 3.63196126e-01 6.87059457e-02 1.08958838e+00\n",
            " 3.63196126e-01 3.63196126e-01 9.41591145e-01            nan\n",
            " 2.45884315e+00 5.50666667e+00            nan 3.63196126e-01\n",
            " 3.63196126e-01 2.75333333e+00 0.00000000e+00 6.95478045e-03\n",
            " 4.82487893e-01 1.08958838e+00 1.12894270e-01 2.00326980e-02\n",
            " 5.49647565e-01 2.12399762e+00 3.16675943e-01 2.98496398e+00]\n",
            "Feature list: Index(['age', 'result', 'A1_Score', 'A2_Score', 'A3_Score', 'A4_Score',\n",
            "       'A5_Score', 'A6_Score', 'A7_Score', 'A8_Score',\n",
            "       ...\n",
            "       'age_desc_'18 and more'', 'used_app_before_no', 'used_app_before_yes',\n",
            "       'relation_'Health care professional'', 'relation_Others',\n",
            "       'relation_Parent', 'relation_Relative', 'relation_Self', 'jaundice_no',\n",
            "       'jaundice_yes'],\n",
            "      dtype='object', length=104)\n"
          ],
          "name": "stdout"
        }
      ]
    },
    {
      "cell_type": "code",
      "metadata": {
        "colab": {
          "base_uri": "https://localhost:8080/",
          "height": 308
        },
        "id": "DE1qdKxOS2Eo",
        "outputId": "acb53a94-72e3-40d1-f7f7-c648499d3362"
      },
      "source": [
        "x_train_2 = select_feature.transform(X_train)\n",
        "x_test_2 = select_feature.transform(X_test)\n",
        "#random forest classifier with n_estimators=10 (default)\n",
        "clf_rf_2 = RandomForestClassifier()      \n",
        "clr_rf_2 = clf_rf_2.fit(x_train_2,y_train)\n",
        "ac_2 = accuracy_score(y_test,clf_rf_2.predict(x_test_2))\n",
        "print('Accuracy is: ',ac_2)\n",
        "cm_2 = confusion_matrix(y_test,clf_rf_2.predict(x_test_2))\n",
        "sns.heatmap(cm_2,annot=True,fmt=\"d\")"
      ],
      "execution_count": 55,
      "outputs": [
        {
          "output_type": "stream",
          "text": [
            "Accuracy is:  0.9290780141843972\n"
          ],
          "name": "stdout"
        },
        {
          "output_type": "execute_result",
          "data": {
            "text/plain": [
              "<matplotlib.axes._subplots.AxesSubplot at 0x7f48787c5590>"
            ]
          },
          "metadata": {
            "tags": []
          },
          "execution_count": 55
        },
        {
          "output_type": "display_data",
          "data": {
            "image/png": "[encoded data removed]",
            "text/plain": [
              "<Figure size 432x288 with 2 Axes>"
            ]
          },
          "metadata": {
            "tags": []
          }
        }
      ]
    },
    {
      "cell_type": "code",
      "metadata": {
        "id": "suX44ZmaS7_Z"
      },
      "source": [
        "from sklearn.feature_selection import RFE\n",
        "# Create the RFE object and rank each pixel\n",
        "clf_rf_3 = RandomForestClassifier()      \n",
        "rfe = RFE(estimator=clf_rf_3, n_features_to_select=5, step=1)\n",
        "rfe = rfe.fit(X_train, y_train)"
      ],
      "execution_count": 56,
      "outputs": []
    },
    {
      "cell_type": "code",
      "metadata": {
        "colab": {
          "base_uri": "https://localhost:8080/"
        },
        "id": "KQ66v_rFTBrN",
        "outputId": "4480b547-edfa-4b56-89d7-7813922ac9e8"
      },
      "source": [
        "print('Chosen best 5 feature by rfe:',X_train.columns[rfe.support_])"
      ],
      "execution_count": 57,
      "outputs": [
        {
          "output_type": "stream",
          "text": [
            "Chosen best 5 feature by rfe: Index(['result', 'A4_Score', 'A5_Score', 'A6_Score', 'A9_Score'], dtype='object')\n"
          ],
          "name": "stdout"
        }
      ]
    },
    {
      "cell_type": "code",
      "metadata": {
        "colab": {
          "base_uri": "https://localhost:8080/"
        },
        "id": "0SkXpVUKTBus",
        "outputId": "34881777-0321-48ec-9e82-36b1dde96822"
      },
      "source": [
        "from sklearn.feature_selection import RFECV\n",
        "# The \"accuracy\" scoring is proportional to the number of correct classifications\n",
        "clf_rf_4 = RandomForestClassifier() \n",
        "rfecv = RFECV(estimator=clf_rf_4, step=1, cv=5,scoring='accuracy')   #5-fold cross-validation\n",
        "rfecv = rfecv.fit(X_train, y_train)\n",
        "print('Optimal number of features :', rfecv.n_features_)\n",
        "print('Best features :', X_train.columns[rfecv.support_])\n"
      ],
      "execution_count": 58,
      "outputs": [
        {
          "output_type": "stream",
          "text": [
            "Optimal number of features : 1\n",
            "Best features : Index(['result'], dtype='object')\n"
          ],
          "name": "stdout"
        }
      ]
    },
    {
      "cell_type": "code",
      "metadata": {
        "colab": {
          "base_uri": "https://localhost:8080/"
        },
        "id": "ODkPNHskTSJM",
        "outputId": "72d67fde-e16b-4727-fa4d-0a742533e72e"
      },
      "source": [
        "clf_rf_5 = RandomForestClassifier()      \n",
        "clr_rf_5 = clf_rf_5.fit(X_train,y_train)\n",
        "importances = clr_rf_5.feature_importances_\n",
        "std = np.std([tree.feature_importances_ for tree in clr_rf_5.estimators_],\n",
        "             axis=0)\n",
        "indices = np.argsort(importances)[::-1]\n",
        "# Print the feature ranking\n",
        "print(\"Feature ranking:\")\n",
        "for f in range(X_train.shape[1]):\n",
        "    print(\"%d. feature %d (%f)\" % (f + 1, indices[f], importances[indices[f]]))"
      ],
      "execution_count": 59,
      "outputs": [
        {
          "output_type": "stream",
          "text": [
            "Feature ranking:\n",
            "1. feature 1 (0.352928)\n",
            "2. feature 10 (0.119109)\n",
            "3. feature 7 (0.080656)\n",
            "4. feature 6 (0.059634)\n",
            "5. feature 5 (0.053925)\n",
            "6. feature 4 (0.052459)\n",
            "7. feature 11 (0.033490)\n",
            "8. feature 8 (0.027132)\n",
            "9. feature 2 (0.023639)\n",
            "10. feature 0 (0.022259)\n",
            "11. feature 3 (0.021891)\n",
            "12. feature 23 (0.017190)\n",
            "13. feature 9 (0.017086)\n",
            "14. feature 37 (0.011156)\n",
            "15. feature 25 (0.006416)\n",
            "16. feature 13 (0.005829)\n",
            "17. feature 16 (0.005812)\n",
            "18. feature 14 (0.005530)\n",
            "19. feature 101 (0.005366)\n",
            "20. feature 65 (0.005306)\n",
            "21. feature 26 (0.004978)\n",
            "22. feature 19 (0.004366)\n",
            "23. feature 35 (0.004193)\n",
            "24. feature 12 (0.003719)\n",
            "25. feature 54 (0.003474)\n",
            "26. feature 36 (0.003219)\n",
            "27. feature 20 (0.002914)\n",
            "28. feature 103 (0.002779)\n",
            "29. feature 30 (0.002777)\n",
            "30. feature 72 (0.002509)\n",
            "31. feature 17 (0.002326)\n",
            "32. feature 99 (0.002051)\n",
            "33. feature 75 (0.001915)\n",
            "34. feature 102 (0.001906)\n",
            "35. feature 95 (0.001796)\n",
            "36. feature 62 (0.001766)\n",
            "37. feature 100 (0.001634)\n",
            "38. feature 86 (0.001616)\n",
            "39. feature 70 (0.001554)\n",
            "40. feature 39 (0.001503)\n",
            "41. feature 96 (0.001465)\n",
            "42. feature 15 (0.001392)\n",
            "43. feature 76 (0.001359)\n",
            "44. feature 49 (0.001235)\n",
            "45. feature 45 (0.001194)\n",
            "46. feature 18 (0.001117)\n",
            "47. feature 69 (0.001073)\n",
            "48. feature 38 (0.000971)\n",
            "49. feature 77 (0.000904)\n",
            "50. feature 88 (0.000850)\n",
            "51. feature 89 (0.000795)\n",
            "52. feature 98 (0.000693)\n",
            "53. feature 78 (0.000690)\n",
            "54. feature 57 (0.000606)\n",
            "55. feature 42 (0.000573)\n",
            "56. feature 31 (0.000527)\n",
            "57. feature 63 (0.000424)\n",
            "58. feature 34 (0.000398)\n",
            "59. feature 52 (0.000382)\n",
            "60. feature 67 (0.000367)\n",
            "61. feature 50 (0.000354)\n",
            "62. feature 48 (0.000265)\n",
            "63. feature 97 (0.000262)\n",
            "64. feature 29 (0.000225)\n",
            "65. feature 82 (0.000212)\n",
            "66. feature 21 (0.000205)\n",
            "67. feature 28 (0.000199)\n",
            "68. feature 51 (0.000177)\n",
            "69. feature 83 (0.000173)\n",
            "70. feature 58 (0.000164)\n",
            "71. feature 64 (0.000159)\n",
            "72. feature 22 (0.000146)\n",
            "73. feature 85 (0.000131)\n",
            "74. feature 61 (0.000118)\n",
            "75. feature 33 (0.000115)\n",
            "76. feature 27 (0.000084)\n",
            "77. feature 43 (0.000082)\n",
            "78. feature 41 (0.000037)\n",
            "79. feature 55 (0.000023)\n",
            "80. feature 92 (0.000010)\n",
            "81. feature 74 (0.000009)\n",
            "82. feature 80 (0.000008)\n",
            "83. feature 46 (0.000007)\n",
            "84. feature 44 (0.000005)\n",
            "85. feature 73 (0.000003)\n",
            "86. feature 91 (0.000000)\n",
            "87. feature 71 (0.000000)\n",
            "88. feature 68 (0.000000)\n",
            "89. feature 47 (0.000000)\n",
            "90. feature 66 (0.000000)\n",
            "91. feature 94 (0.000000)\n",
            "92. feature 93 (0.000000)\n",
            "93. feature 79 (0.000000)\n",
            "94. feature 90 (0.000000)\n",
            "95. feature 24 (0.000000)\n",
            "96. feature 53 (0.000000)\n",
            "97. feature 87 (0.000000)\n",
            "98. feature 40 (0.000000)\n",
            "99. feature 60 (0.000000)\n",
            "100. feature 59 (0.000000)\n",
            "101. feature 84 (0.000000)\n",
            "102. feature 81 (0.000000)\n",
            "103. feature 32 (0.000000)\n",
            "104. feature 56 (0.000000)\n"
          ],
          "name": "stdout"
        }
      ]
    },
    {
      "cell_type": "code",
      "metadata": {
        "colab": {
          "base_uri": "https://localhost:8080/",
          "height": 561
        },
        "id": "dCmhM1LoOH89",
        "outputId": "b20f6884-8e86-449d-f1d9-957de87722be"
      },
      "source": [
        "plt.figure(num=None, figsize=(10,8), dpi=80, facecolor='w', edgecolor='k')\n",
        "feat_importances = pd.Series(clr_rf_5.feature_importances_)\n",
        "feat_importances.nlargest(10).plot(kind='barh')"
      ],
      "execution_count": 60,
      "outputs": [
        {
          "output_type": "execute_result",
          "data": {
            "text/plain": [
              "<matplotlib.axes._subplots.AxesSubplot at 0x7f48728f0950>"
            ]
          },
          "metadata": {
            "tags": []
          },
          "execution_count": 60
        },
        {
          "output_type": "display_data",
          "data": {
            "image/png": "[encoded data removed]",
            "text/plain": [
              "<Figure size 800x640 with 1 Axes>"
            ]
          },
          "metadata": {
            "tags": []
          }
        }
      ]
    },
    {
      "cell_type": "code",
      "metadata": {
        "colab": {
          "base_uri": "https://localhost:8080/"
        },
        "id": "wMn-AXTzYNQO",
        "outputId": "db6e3485-8058-4a29-aa98-d49b35b2d2df"
      },
      "source": [
        "#SGD Classifier grid searchCV\n",
        "grid_search = model_selection.GridSearchCV(\n",
        "    estimator=linear_model.SGDClassifier(loss='log', tol=-np.inf, class_weight='balanced'),\n",
        "    param_grid={'alpha': [0.1, 0.3],\n",
        "                'max_iter': [10000, 15000]},\n",
        "    cv=10,\n",
        "    return_train_score=True)\n",
        "grid_search.fit(X_train, y_train)\n",
        "def evaluate(model, X_train, y_train, X_test, y_test):\n",
        "    train_preds = model.predict(X_train)\n",
        "    test_preds = model.predict(X_test)\n",
        "    train_acc = metrics.accuracy_score(y_train,train_preds)\n",
        "    test_acc = metrics.accuracy_score(y_test,test_preds)\n",
        "    print('Train accuracy: %s' % train_acc)\n",
        "    print('Test accuracy: %s' % test_acc)\n",
        "best_alpha = grid_search.best_params_['alpha']\n",
        "best_max_iter = grid_search.best_params_['max_iter']\n",
        "print('Best alpha: %s' % best_alpha)\n",
        "print('Best max_iter: %s' % best_max_iter)\n",
        "best_model = linear_model.SGDClassifier(\n",
        "    loss='log', tol=-np.inf, class_weight='balanced', alpha=best_alpha, max_iter=best_max_iter)\n",
        "best_model.fit(X_train, y_train)\n",
        "evaluate(best_model, X_train, y_train, X_test, y_test)"
      ],
      "execution_count": 61,
      "outputs": [
        {
          "output_type": "stream",
          "text": [
            "Best alpha: 0.1\n",
            "Best max_iter: 15000\n",
            "Train accuracy: 0.9591474245115453\n",
            "Test accuracy: 0.9290780141843972\n"
          ],
          "name": "stdout"
        }
      ]
    },
    {
      "cell_type": "code",
      "metadata": {
        "colab": {
          "base_uri": "https://localhost:8080/",
          "height": 175
        },
        "id": "r4rGa-BJMPjw",
        "outputId": "8511abbe-68cd-444a-ad1c-402f7aabca1e"
      },
      "source": [
        "r = pd.DataFrame(grid_search.cv_results_)\n",
        "# we only want a subset of the columns for a precise summary\n",
        "r[['params', 'mean_train_score', 'mean_test_score']].head()"
      ],
      "execution_count": 62,
      "outputs": [
        {
          "output_type": "execute_result",
          "data": {
            "text/html": [
              "<div>\n",
              "<style scoped>\n",
              "    .dataframe tbody tr th:only-of-type {\n",
              "        vertical-align: middle;\n",
              "    }\n",
              "\n",
              "    .dataframe tbody tr th {\n",
              "        vertical-align: top;\n",
              "    }\n",
              "\n",
              "    .dataframe thead th {\n",
              "        text-align: right;\n",
              "    }\n",
              "</style>\n",
              "<table border=\"1\" class=\"dataframe\">\n",
              "  <thead>\n",
              "    <tr style=\"text-align: right;\">\n",
              "      <th></th>\n",
              "      <th>params</th>\n",
              "      <th>mean_train_score</th>\n",
              "      <th>mean_test_score</th>\n",
              "    </tr>\n",
              "  </thead>\n",
              "  <tbody>\n",
              "    <tr>\n",
              "      <th>0</th>\n",
              "      <td>{'alpha': 0.1, 'max_iter': 10000}</td>\n",
              "      <td>0.961318</td>\n",
              "      <td>0.955608</td>\n",
              "    </tr>\n",
              "    <tr>\n",
              "      <th>1</th>\n",
              "      <td>{'alpha': 0.1, 'max_iter': 15000}</td>\n",
              "      <td>0.961910</td>\n",
              "      <td>0.957362</td>\n",
              "    </tr>\n",
              "    <tr>\n",
              "      <th>2</th>\n",
              "      <td>{'alpha': 0.3, 'max_iter': 10000}</td>\n",
              "      <td>0.945131</td>\n",
              "      <td>0.944987</td>\n",
              "    </tr>\n",
              "    <tr>\n",
              "      <th>3</th>\n",
              "      <td>{'alpha': 0.3, 'max_iter': 15000}</td>\n",
              "      <td>0.946317</td>\n",
              "      <td>0.946773</td>\n",
              "    </tr>\n",
              "  </tbody>\n",
              "</table>\n",
              "</div>"
            ],
            "text/plain": [
              "                              params  mean_train_score  mean_test_score\n",
              "0  {'alpha': 0.1, 'max_iter': 10000}          0.961318         0.955608\n",
              "1  {'alpha': 0.1, 'max_iter': 15000}          0.961910         0.957362\n",
              "2  {'alpha': 0.3, 'max_iter': 10000}          0.945131         0.944987\n",
              "3  {'alpha': 0.3, 'max_iter': 15000}          0.946317         0.946773"
            ]
          },
          "metadata": {
            "tags": []
          },
          "execution_count": 62
        }
      ]
    },
    {
      "cell_type": "code",
      "metadata": {
        "colab": {
          "base_uri": "https://localhost:8080/",
          "height": 273
        },
        "id": "aUv3byLKX-58",
        "outputId": "260a77b3-c42a-4a2a-b031-aef3275f179f"
      },
      "source": [
        "plt.hist(r.get('mean_train_score'), bins = 50);plt.show()"
      ],
      "execution_count": 65,
      "outputs": [
        {
          "output_type": "display_data",
          "data": {
            "image/png": "[encoded data removed]",
            "text/plain": [
              "<Figure size 432x288 with 1 Axes>"
            ]
          },
          "metadata": {
            "tags": []
          }
        }
      ]
    },
    {
      "cell_type": "code",
      "metadata": {
        "colab": {
          "base_uri": "https://localhost:8080/",
          "height": 273
        },
        "id": "85tt4UxIYr9c",
        "outputId": "55495729-bd69-4908-c56b-3bf777eca98b"
      },
      "source": [
        "plt.hist(r.get('mean_test_score'), bins = 50);plt.show()"
      ],
      "execution_count": 66,
      "outputs": [
        {
          "output_type": "display_data",
          "data": {
            "image/png": "[encoded data removed]",
            "text/plain": [
              "<Figure size 432x288 with 1 Axes>"
            ]
          },
          "metadata": {
            "tags": []
          }
        }
      ]
    }
  ]
}